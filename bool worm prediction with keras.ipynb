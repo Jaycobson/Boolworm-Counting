{
 "cells": [
  {
   "cell_type": "code",
   "execution_count": 688,
   "id": "c2ab0800",
   "metadata": {},
   "outputs": [],
   "source": [
    "import numpy as np\n",
    "import pandas as pd\n",
    "from pathlib import Path\n",
    "import os.path\n",
    "import seaborn as sns\n",
    "from sklearn.model_selection import train_test_split\n",
    "import matplotlib.pyplot as plt\n",
    "import tensorflow as tf\n",
    "import cv2\n",
    "from sklearn.metrics import r2_score"
   ]
  },
  {
   "cell_type": "code",
   "execution_count": 689,
   "id": "875934c8",
   "metadata": {},
   "outputs": [],
   "source": [
    "image_dir = Path('./images500-20221123T124124Z-001/images500')"
   ]
  },
  {
   "cell_type": "code",
   "execution_count": 690,
   "id": "9fdca3fd",
   "metadata": {},
   "outputs": [
    {
     "data": {
      "text/plain": [
       "Path('images500-20221123T124124Z-001/images500')"
      ]
     },
     "execution_count": 690,
     "metadata": {},
     "output_type": "execute_result"
    }
   ],
   "source": [
    "image_dir"
   ]
  },
  {
   "cell_type": "code",
   "execution_count": 691,
   "id": "ad91d3ef",
   "metadata": {},
   "outputs": [],
   "source": [
    "filepath = pd.Series(list(image_dir.glob(r'**/*')), name = 'Filepath').astype(str)"
   ]
  },
  {
   "cell_type": "code",
   "execution_count": 692,
   "id": "ed281ffd",
   "metadata": {},
   "outputs": [
    {
     "data": {
      "text/plain": [
       "'images500-20221123T124124Z-001\\\\images500\\\\id_0002ea6f15c7fa6f4c221783.jpg'"
      ]
     },
     "execution_count": 692,
     "metadata": {},
     "output_type": "execute_result"
    }
   ],
   "source": [
    "filepath[0]"
   ]
  },
  {
   "cell_type": "code",
   "execution_count": 693,
   "id": "19c2cf9d",
   "metadata": {
    "scrolled": true
   },
   "outputs": [
    {
     "data": {
      "text/plain": [
       "'id_0002ea6f15c7fa6f4c221783.jpg'"
      ]
     },
     "execution_count": 693,
     "metadata": {},
     "output_type": "execute_result"
    }
   ],
   "source": [
    "os.path.split(filepath.values[0])[1]"
   ]
  },
  {
   "cell_type": "code",
   "execution_count": 694,
   "id": "e086a433",
   "metadata": {},
   "outputs": [],
   "source": [
    "image = pd.Series(filepath.apply(lambda x :os.path.split(os.path.split(x)[1])[1]), name = 'image_id_worm')"
   ]
  },
  {
   "cell_type": "code",
   "execution_count": 695,
   "id": "867d1294",
   "metadata": {},
   "outputs": [],
   "source": [
    "images = pd.concat([filepath, image],axis = 1).sample(frac = 1.0,random_state = 42).reset_index(drop = True)"
   ]
  },
  {
   "cell_type": "code",
   "execution_count": 696,
   "id": "022bce10",
   "metadata": {
    "scrolled": true
   },
   "outputs": [
    {
     "data": {
      "text/html": [
       "<div>\n",
       "<style scoped>\n",
       "    .dataframe tbody tr th:only-of-type {\n",
       "        vertical-align: middle;\n",
       "    }\n",
       "\n",
       "    .dataframe tbody tr th {\n",
       "        vertical-align: top;\n",
       "    }\n",
       "\n",
       "    .dataframe thead th {\n",
       "        text-align: right;\n",
       "    }\n",
       "</style>\n",
       "<table border=\"1\" class=\"dataframe\">\n",
       "  <thead>\n",
       "    <tr style=\"text-align: right;\">\n",
       "      <th></th>\n",
       "      <th>Filepath</th>\n",
       "      <th>image_id_worm</th>\n",
       "    </tr>\n",
       "  </thead>\n",
       "  <tbody>\n",
       "    <tr>\n",
       "      <th>6152</th>\n",
       "      <td>images500-20221123T124124Z-001\\images500\\id_aeb7c21a5ef7a004d4b61989.jpg</td>\n",
       "      <td>id_aeb7c21a5ef7a004d4b61989.jpg</td>\n",
       "    </tr>\n",
       "    <tr>\n",
       "      <th>10466</th>\n",
       "      <td>images500-20221123T124124Z-001\\images500\\id_baafd7221bf63341b295c331.jpg</td>\n",
       "      <td>id_baafd7221bf63341b295c331.jpg</td>\n",
       "    </tr>\n",
       "    <tr>\n",
       "      <th>1340</th>\n",
       "      <td>images500-20221123T124124Z-001\\images500\\id_1ae8e29c9b6777a0cbc85aa7.jpg</td>\n",
       "      <td>id_1ae8e29c9b6777a0cbc85aa7.jpg</td>\n",
       "    </tr>\n",
       "    <tr>\n",
       "      <th>10234</th>\n",
       "      <td>images500-20221123T124124Z-001\\images500\\id_e4e81136162ebda848818dcc.jpg</td>\n",
       "      <td>id_e4e81136162ebda848818dcc.jpg</td>\n",
       "    </tr>\n",
       "    <tr>\n",
       "      <th>11426</th>\n",
       "      <td>images500-20221123T124124Z-001\\images500\\id_6e32626dc37f979887594557.jpg</td>\n",
       "      <td>id_6e32626dc37f979887594557.jpg</td>\n",
       "    </tr>\n",
       "  </tbody>\n",
       "</table>\n",
       "</div>"
      ],
      "text/plain": [
       "                                                                       Filepath  \\\n",
       "6152   images500-20221123T124124Z-001\\images500\\id_aeb7c21a5ef7a004d4b61989.jpg   \n",
       "10466  images500-20221123T124124Z-001\\images500\\id_baafd7221bf63341b295c331.jpg   \n",
       "1340   images500-20221123T124124Z-001\\images500\\id_1ae8e29c9b6777a0cbc85aa7.jpg   \n",
       "10234  images500-20221123T124124Z-001\\images500\\id_e4e81136162ebda848818dcc.jpg   \n",
       "11426  images500-20221123T124124Z-001\\images500\\id_6e32626dc37f979887594557.jpg   \n",
       "\n",
       "                         image_id_worm  \n",
       "6152   id_aeb7c21a5ef7a004d4b61989.jpg  \n",
       "10466  id_baafd7221bf63341b295c331.jpg  \n",
       "1340   id_1ae8e29c9b6777a0cbc85aa7.jpg  \n",
       "10234  id_e4e81136162ebda848818dcc.jpg  \n",
       "11426  id_6e32626dc37f979887594557.jpg  "
      ]
     },
     "execution_count": 696,
     "metadata": {},
     "output_type": "execute_result"
    }
   ],
   "source": [
    "images.sample(5)"
   ]
  },
  {
   "cell_type": "code",
   "execution_count": 697,
   "id": "604d47d7",
   "metadata": {},
   "outputs": [
    {
     "data": {
      "text/plain": [
       "(12540, 2)"
      ]
     },
     "execution_count": 697,
     "metadata": {},
     "output_type": "execute_result"
    }
   ],
   "source": [
    "images.shape"
   ]
  },
  {
   "cell_type": "code",
   "execution_count": 698,
   "id": "f5707c7b",
   "metadata": {},
   "outputs": [],
   "source": [
    "import random"
   ]
  },
  {
   "cell_type": "code",
   "execution_count": 699,
   "id": "bf64d216",
   "metadata": {},
   "outputs": [],
   "source": [
    "x = plt.imread(filepath[1])"
   ]
  },
  {
   "cell_type": "code",
   "execution_count": 700,
   "id": "d6281b12",
   "metadata": {},
   "outputs": [
    {
     "data": {
      "text/plain": [
       "<matplotlib.image.AxesImage at 0x1e592f5df10>"
      ]
     },
     "execution_count": 700,
     "metadata": {},
     "output_type": "execute_result"
    },
    {
     "data": {
      "image/png": "[encoded data removed]",
      "text/plain": [
       "<Figure size 640x480 with 1 Axes>"
      ]
     },
     "metadata": {},
     "output_type": "display_data"
    }
   ],
   "source": [
    "plt.imshow(x)"
   ]
  },
  {
   "cell_type": "code",
   "execution_count": 701,
   "id": "a143903c",
   "metadata": {},
   "outputs": [],
   "source": [
    "train = pd.read_csv('Train.csv')"
   ]
  },
  {
   "cell_type": "code",
   "execution_count": 702,
   "id": "487e40c9",
   "metadata": {},
   "outputs": [],
   "source": [
    "train = train.fillna(0)"
   ]
  },
  {
   "cell_type": "code",
   "execution_count": 703,
   "id": "5189e442",
   "metadata": {
    "scrolled": true
   },
   "outputs": [
    {
     "data": {
      "text/html": [
       "<div>\n",
       "<style scoped>\n",
       "    .dataframe tbody tr th:only-of-type {\n",
       "        vertical-align: middle;\n",
       "    }\n",
       "\n",
       "    .dataframe tbody tr th {\n",
       "        vertical-align: top;\n",
       "    }\n",
       "\n",
       "    .dataframe thead th {\n",
       "        text-align: right;\n",
       "    }\n",
       "</style>\n",
       "<table border=\"1\" class=\"dataframe\">\n",
       "  <thead>\n",
       "    <tr style=\"text-align: right;\">\n",
       "      <th></th>\n",
       "      <th>image_id_worm</th>\n",
       "      <th>worm_type</th>\n",
       "      <th>number_of_worms</th>\n",
       "    </tr>\n",
       "  </thead>\n",
       "  <tbody>\n",
       "    <tr>\n",
       "      <th>0</th>\n",
       "      <td>id_0002ea6f15c7fa6f4c221783.jpg</td>\n",
       "      <td>pbw</td>\n",
       "      <td>51</td>\n",
       "    </tr>\n",
       "    <tr>\n",
       "      <th>1</th>\n",
       "      <td>id_0005ef295aafe6acc63587db.jpg</td>\n",
       "      <td>pbw</td>\n",
       "      <td>8</td>\n",
       "    </tr>\n",
       "    <tr>\n",
       "      <th>2</th>\n",
       "      <td>id_00084298dd030a500033ff78.jpg</td>\n",
       "      <td>0</td>\n",
       "      <td>0</td>\n",
       "    </tr>\n",
       "    <tr>\n",
       "      <th>3</th>\n",
       "      <td>id_00093f2c76f6488737325859.jpg</td>\n",
       "      <td>pbw</td>\n",
       "      <td>12</td>\n",
       "    </tr>\n",
       "    <tr>\n",
       "      <th>4</th>\n",
       "      <td>id_000b2e6c437c643f25d4a6c3.jpg</td>\n",
       "      <td>pbw</td>\n",
       "      <td>87</td>\n",
       "    </tr>\n",
       "  </tbody>\n",
       "</table>\n",
       "</div>"
      ],
      "text/plain": [
       "                     image_id_worm worm_type  number_of_worms\n",
       "0  id_0002ea6f15c7fa6f4c221783.jpg       pbw               51\n",
       "1  id_0005ef295aafe6acc63587db.jpg       pbw                8\n",
       "2  id_00084298dd030a500033ff78.jpg         0                0\n",
       "3  id_00093f2c76f6488737325859.jpg       pbw               12\n",
       "4  id_000b2e6c437c643f25d4a6c3.jpg       pbw               87"
      ]
     },
     "execution_count": 703,
     "metadata": {},
     "output_type": "execute_result"
    }
   ],
   "source": [
    "train.head()"
   ]
  },
  {
   "cell_type": "code",
   "execution_count": 704,
   "id": "abaa69fa",
   "metadata": {},
   "outputs": [
    {
     "data": {
      "text/html": [
       "<div>\n",
       "<style scoped>\n",
       "    .dataframe tbody tr th:only-of-type {\n",
       "        vertical-align: middle;\n",
       "    }\n",
       "\n",
       "    .dataframe tbody tr th {\n",
       "        vertical-align: top;\n",
       "    }\n",
       "\n",
       "    .dataframe thead th {\n",
       "        text-align: right;\n",
       "    }\n",
       "</style>\n",
       "<table border=\"1\" class=\"dataframe\">\n",
       "  <thead>\n",
       "    <tr style=\"text-align: right;\">\n",
       "      <th></th>\n",
       "      <th>image_id_worm</th>\n",
       "      <th>worm_type</th>\n",
       "      <th>number_of_worms</th>\n",
       "    </tr>\n",
       "  </thead>\n",
       "  <tbody>\n",
       "    <tr>\n",
       "      <th>412</th>\n",
       "      <td>id_0a874b32c61041f70b309f6e.jpg</td>\n",
       "      <td>0</td>\n",
       "      <td>0</td>\n",
       "    </tr>\n",
       "  </tbody>\n",
       "</table>\n",
       "</div>"
      ],
      "text/plain": [
       "                       image_id_worm worm_type  number_of_worms\n",
       "412  id_0a874b32c61041f70b309f6e.jpg         0                0"
      ]
     },
     "execution_count": 704,
     "metadata": {},
     "output_type": "execute_result"
    }
   ],
   "source": [
    "train[train['image_id_worm'] == 'id_0a874b32c61041f70b309f6e.jpg']"
   ]
  },
  {
   "cell_type": "code",
   "execution_count": 705,
   "id": "4ea8dbdf",
   "metadata": {},
   "outputs": [
    {
     "data": {
      "text/html": [
       "<div>\n",
       "<style scoped>\n",
       "    .dataframe tbody tr th:only-of-type {\n",
       "        vertical-align: middle;\n",
       "    }\n",
       "\n",
       "    .dataframe tbody tr th {\n",
       "        vertical-align: top;\n",
       "    }\n",
       "\n",
       "    .dataframe thead th {\n",
       "        text-align: right;\n",
       "    }\n",
       "</style>\n",
       "<table border=\"1\" class=\"dataframe\">\n",
       "  <thead>\n",
       "    <tr style=\"text-align: right;\">\n",
       "      <th></th>\n",
       "      <th>number_of_worms</th>\n",
       "    </tr>\n",
       "  </thead>\n",
       "  <tbody>\n",
       "    <tr>\n",
       "      <th>count</th>\n",
       "      <td>9900.000000</td>\n",
       "    </tr>\n",
       "    <tr>\n",
       "      <th>mean</th>\n",
       "      <td>13.835859</td>\n",
       "    </tr>\n",
       "    <tr>\n",
       "      <th>std</th>\n",
       "      <td>35.314402</td>\n",
       "    </tr>\n",
       "    <tr>\n",
       "      <th>min</th>\n",
       "      <td>0.000000</td>\n",
       "    </tr>\n",
       "    <tr>\n",
       "      <th>25%</th>\n",
       "      <td>0.000000</td>\n",
       "    </tr>\n",
       "    <tr>\n",
       "      <th>50%</th>\n",
       "      <td>3.000000</td>\n",
       "    </tr>\n",
       "    <tr>\n",
       "      <th>75%</th>\n",
       "      <td>10.000000</td>\n",
       "    </tr>\n",
       "    <tr>\n",
       "      <th>max</th>\n",
       "      <td>527.000000</td>\n",
       "    </tr>\n",
       "  </tbody>\n",
       "</table>\n",
       "</div>"
      ],
      "text/plain": [
       "       number_of_worms\n",
       "count      9900.000000\n",
       "mean         13.835859\n",
       "std          35.314402\n",
       "min           0.000000\n",
       "25%           0.000000\n",
       "50%           3.000000\n",
       "75%          10.000000\n",
       "max         527.000000"
      ]
     },
     "execution_count": 705,
     "metadata": {},
     "output_type": "execute_result"
    }
   ],
   "source": [
    "train.describe()"
   ]
  },
  {
   "cell_type": "code",
   "execution_count": 706,
   "id": "02f4e1b9",
   "metadata": {},
   "outputs": [
    {
     "data": {
      "text/plain": [
       "(9900, 3)"
      ]
     },
     "execution_count": 706,
     "metadata": {},
     "output_type": "execute_result"
    }
   ],
   "source": [
    "train.shape"
   ]
  },
  {
   "cell_type": "code",
   "execution_count": 707,
   "id": "35daa858",
   "metadata": {},
   "outputs": [
    {
     "data": {
      "text/plain": [
       "image_id_worm      0\n",
       "worm_type          0\n",
       "number_of_worms    0\n",
       "dtype: int64"
      ]
     },
     "execution_count": 707,
     "metadata": {},
     "output_type": "execute_result"
    }
   ],
   "source": [
    "train.isna().sum()"
   ]
  },
  {
   "cell_type": "code",
   "execution_count": 708,
   "id": "c7ada4bc",
   "metadata": {},
   "outputs": [],
   "source": [
    "train_pivot = train.pivot_table(values = 'number_of_worms', index = 'image_id_worm', columns = 'worm_type').reset_index()"
   ]
  },
  {
   "cell_type": "code",
   "execution_count": 709,
   "id": "c15eea9e",
   "metadata": {
    "scrolled": false
   },
   "outputs": [
    {
     "data": {
      "text/html": [
       "<div>\n",
       "<style scoped>\n",
       "    .dataframe tbody tr th:only-of-type {\n",
       "        vertical-align: middle;\n",
       "    }\n",
       "\n",
       "    .dataframe tbody tr th {\n",
       "        vertical-align: top;\n",
       "    }\n",
       "\n",
       "    .dataframe thead th {\n",
       "        text-align: right;\n",
       "    }\n",
       "</style>\n",
       "<table border=\"1\" class=\"dataframe\">\n",
       "  <thead>\n",
       "    <tr style=\"text-align: right;\">\n",
       "      <th>worm_type</th>\n",
       "      <th>image_id_worm</th>\n",
       "      <th>0</th>\n",
       "      <th>abw</th>\n",
       "      <th>pbw</th>\n",
       "    </tr>\n",
       "  </thead>\n",
       "  <tbody>\n",
       "    <tr>\n",
       "      <th>0</th>\n",
       "      <td>id_0002ea6f15c7fa6f4c221783.jpg</td>\n",
       "      <td>NaN</td>\n",
       "      <td>NaN</td>\n",
       "      <td>51.0</td>\n",
       "    </tr>\n",
       "    <tr>\n",
       "      <th>1</th>\n",
       "      <td>id_0005ef295aafe6acc63587db.jpg</td>\n",
       "      <td>NaN</td>\n",
       "      <td>NaN</td>\n",
       "      <td>8.0</td>\n",
       "    </tr>\n",
       "    <tr>\n",
       "      <th>2</th>\n",
       "      <td>id_00084298dd030a500033ff78.jpg</td>\n",
       "      <td>0.0</td>\n",
       "      <td>NaN</td>\n",
       "      <td>NaN</td>\n",
       "    </tr>\n",
       "    <tr>\n",
       "      <th>3</th>\n",
       "      <td>id_00093f2c76f6488737325859.jpg</td>\n",
       "      <td>NaN</td>\n",
       "      <td>NaN</td>\n",
       "      <td>12.0</td>\n",
       "    </tr>\n",
       "    <tr>\n",
       "      <th>4</th>\n",
       "      <td>id_000b2e6c437c643f25d4a6c3.jpg</td>\n",
       "      <td>NaN</td>\n",
       "      <td>NaN</td>\n",
       "      <td>87.0</td>\n",
       "    </tr>\n",
       "  </tbody>\n",
       "</table>\n",
       "</div>"
      ],
      "text/plain": [
       "worm_type                    image_id_worm    0  abw   pbw\n",
       "0          id_0002ea6f15c7fa6f4c221783.jpg  NaN  NaN  51.0\n",
       "1          id_0005ef295aafe6acc63587db.jpg  NaN  NaN   8.0\n",
       "2          id_00084298dd030a500033ff78.jpg  0.0  NaN   NaN\n",
       "3          id_00093f2c76f6488737325859.jpg  NaN  NaN  12.0\n",
       "4          id_000b2e6c437c643f25d4a6c3.jpg  NaN  NaN  87.0"
      ]
     },
     "execution_count": 709,
     "metadata": {},
     "output_type": "execute_result"
    }
   ],
   "source": [
    "train_pivot.head()"
   ]
  },
  {
   "cell_type": "code",
   "execution_count": 710,
   "id": "c0470caa",
   "metadata": {},
   "outputs": [],
   "source": [
    "train_pivot = train_pivot.drop(0, axis = 1)"
   ]
  },
  {
   "cell_type": "code",
   "execution_count": 711,
   "id": "1c7f87c4",
   "metadata": {},
   "outputs": [
    {
     "data": {
      "text/plain": [
       "(9737, 3)"
      ]
     },
     "execution_count": 711,
     "metadata": {},
     "output_type": "execute_result"
    }
   ],
   "source": [
    "train_pivot.shape"
   ]
  },
  {
   "cell_type": "code",
   "execution_count": 712,
   "id": "b1cbf7ec",
   "metadata": {},
   "outputs": [],
   "source": [
    "testdata = images[~images['image_id_worm'].isin(train_pivot['image_id_worm'])]"
   ]
  },
  {
   "cell_type": "code",
   "execution_count": 714,
   "id": "70398e91",
   "metadata": {
    "scrolled": true
   },
   "outputs": [
    {
     "data": {
      "text/html": [
       "<div>\n",
       "<style scoped>\n",
       "    .dataframe tbody tr th:only-of-type {\n",
       "        vertical-align: middle;\n",
       "    }\n",
       "\n",
       "    .dataframe tbody tr th {\n",
       "        vertical-align: top;\n",
       "    }\n",
       "\n",
       "    .dataframe thead th {\n",
       "        text-align: right;\n",
       "    }\n",
       "</style>\n",
       "<table border=\"1\" class=\"dataframe\">\n",
       "  <thead>\n",
       "    <tr style=\"text-align: right;\">\n",
       "      <th></th>\n",
       "      <th>Filepath</th>\n",
       "      <th>image_id_worm</th>\n",
       "    </tr>\n",
       "  </thead>\n",
       "  <tbody>\n",
       "    <tr>\n",
       "      <th>2</th>\n",
       "      <td>images500-20221123T124124Z-001\\images500\\id_7fd9ccb8d3b480825e5d6fe4.jpg</td>\n",
       "      <td>id_7fd9ccb8d3b480825e5d6fe4.jpg</td>\n",
       "    </tr>\n",
       "    <tr>\n",
       "      <th>5</th>\n",
       "      <td>images500-20221123T124124Z-001\\images500\\id_0883bbe2ed47e82b16bca7aa.jpg</td>\n",
       "      <td>id_0883bbe2ed47e82b16bca7aa.jpg</td>\n",
       "    </tr>\n",
       "    <tr>\n",
       "      <th>6</th>\n",
       "      <td>images500-20221123T124124Z-001\\images500\\id_3fb316b0bc92f9b64e150c61.jpg</td>\n",
       "      <td>id_3fb316b0bc92f9b64e150c61.jpg</td>\n",
       "    </tr>\n",
       "    <tr>\n",
       "      <th>12</th>\n",
       "      <td>images500-20221123T124124Z-001\\images500\\id_43fe6a2c9d27d56e1ce12e35.jpg</td>\n",
       "      <td>id_43fe6a2c9d27d56e1ce12e35.jpg</td>\n",
       "    </tr>\n",
       "    <tr>\n",
       "      <th>17</th>\n",
       "      <td>images500-20221123T124124Z-001\\images500\\id_62b9746c1d2daf1613ca7cb9.jpg</td>\n",
       "      <td>id_62b9746c1d2daf1613ca7cb9.jpg</td>\n",
       "    </tr>\n",
       "  </tbody>\n",
       "</table>\n",
       "</div>"
      ],
      "text/plain": [
       "                                                                    Filepath  \\\n",
       "2   images500-20221123T124124Z-001\\images500\\id_7fd9ccb8d3b480825e5d6fe4.jpg   \n",
       "5   images500-20221123T124124Z-001\\images500\\id_0883bbe2ed47e82b16bca7aa.jpg   \n",
       "6   images500-20221123T124124Z-001\\images500\\id_3fb316b0bc92f9b64e150c61.jpg   \n",
       "12  images500-20221123T124124Z-001\\images500\\id_43fe6a2c9d27d56e1ce12e35.jpg   \n",
       "17  images500-20221123T124124Z-001\\images500\\id_62b9746c1d2daf1613ca7cb9.jpg   \n",
       "\n",
       "                      image_id_worm  \n",
       "2   id_7fd9ccb8d3b480825e5d6fe4.jpg  \n",
       "5   id_0883bbe2ed47e82b16bca7aa.jpg  \n",
       "6   id_3fb316b0bc92f9b64e150c61.jpg  \n",
       "12  id_43fe6a2c9d27d56e1ce12e35.jpg  \n",
       "17  id_62b9746c1d2daf1613ca7cb9.jpg  "
      ]
     },
     "execution_count": 714,
     "metadata": {},
     "output_type": "execute_result"
    }
   ],
   "source": [
    "testdata.head()"
   ]
  },
  {
   "cell_type": "code",
   "execution_count": 716,
   "id": "e3e545d0",
   "metadata": {},
   "outputs": [],
   "source": [
    "images = images[images['image_id_worm'].isin(train_pivot['image_id_worm'])]"
   ]
  },
  {
   "cell_type": "code",
   "execution_count": 717,
   "id": "a6940055",
   "metadata": {},
   "outputs": [],
   "source": [
    "image_df = images.merge(train_pivot, on = 'image_id_worm')"
   ]
  },
  {
   "cell_type": "code",
   "execution_count": 718,
   "id": "2c613890",
   "metadata": {
    "scrolled": true
   },
   "outputs": [
    {
     "data": {
      "text/plain": [
       "Filepath            0\n",
       "image_id_worm       0\n",
       "abw              8042\n",
       "pbw              4790\n",
       "dtype: int64"
      ]
     },
     "execution_count": 718,
     "metadata": {},
     "output_type": "execute_result"
    }
   ],
   "source": [
    "image_df.isna().sum()"
   ]
  },
  {
   "cell_type": "code",
   "execution_count": 719,
   "id": "c5de85d6",
   "metadata": {},
   "outputs": [],
   "source": [
    "image_df = image_df.fillna(0)"
   ]
  },
  {
   "cell_type": "code",
   "execution_count": 720,
   "id": "d4b0fee4",
   "metadata": {
    "scrolled": true
   },
   "outputs": [
    {
     "data": {
      "text/html": [
       "<div>\n",
       "<style scoped>\n",
       "    .dataframe tbody tr th:only-of-type {\n",
       "        vertical-align: middle;\n",
       "    }\n",
       "\n",
       "    .dataframe tbody tr th {\n",
       "        vertical-align: top;\n",
       "    }\n",
       "\n",
       "    .dataframe thead th {\n",
       "        text-align: right;\n",
       "    }\n",
       "</style>\n",
       "<table border=\"1\" class=\"dataframe\">\n",
       "  <thead>\n",
       "    <tr style=\"text-align: right;\">\n",
       "      <th></th>\n",
       "      <th>Filepath</th>\n",
       "      <th>image_id_worm</th>\n",
       "      <th>abw</th>\n",
       "      <th>pbw</th>\n",
       "    </tr>\n",
       "  </thead>\n",
       "  <tbody>\n",
       "    <tr>\n",
       "      <th>0</th>\n",
       "      <td>images500-20221123T124124Z-001\\images500\\id_c19995f5ada0099b71d76cd2.jpg</td>\n",
       "      <td>id_c19995f5ada0099b71d76cd2.jpg</td>\n",
       "      <td>0.0</td>\n",
       "      <td>0.0</td>\n",
       "    </tr>\n",
       "    <tr>\n",
       "      <th>1</th>\n",
       "      <td>images500-20221123T124124Z-001\\images500\\id_3c4ebbfe1adc8bd2db189c97.jpg</td>\n",
       "      <td>id_3c4ebbfe1adc8bd2db189c97.jpg</td>\n",
       "      <td>0.0</td>\n",
       "      <td>0.0</td>\n",
       "    </tr>\n",
       "    <tr>\n",
       "      <th>2</th>\n",
       "      <td>images500-20221123T124124Z-001\\images500\\id_ca57a7cbcfff8a446932ed24.jpg</td>\n",
       "      <td>id_ca57a7cbcfff8a446932ed24.jpg</td>\n",
       "      <td>2.0</td>\n",
       "      <td>0.0</td>\n",
       "    </tr>\n",
       "    <tr>\n",
       "      <th>3</th>\n",
       "      <td>images500-20221123T124124Z-001\\images500\\id_95deaa280c28018dfa51f41c.jpg</td>\n",
       "      <td>id_95deaa280c28018dfa51f41c.jpg</td>\n",
       "      <td>0.0</td>\n",
       "      <td>51.0</td>\n",
       "    </tr>\n",
       "    <tr>\n",
       "      <th>4</th>\n",
       "      <td>images500-20221123T124124Z-001\\images500\\id_2e2b0def2c3333ff0a7b7fcd.jpg</td>\n",
       "      <td>id_2e2b0def2c3333ff0a7b7fcd.jpg</td>\n",
       "      <td>0.0</td>\n",
       "      <td>0.0</td>\n",
       "    </tr>\n",
       "    <tr>\n",
       "      <th>5</th>\n",
       "      <td>images500-20221123T124124Z-001\\images500\\id_ddd43c362c560d5b3cd18f7b.jpg</td>\n",
       "      <td>id_ddd43c362c560d5b3cd18f7b.jpg</td>\n",
       "      <td>0.0</td>\n",
       "      <td>0.0</td>\n",
       "    </tr>\n",
       "    <tr>\n",
       "      <th>6</th>\n",
       "      <td>images500-20221123T124124Z-001\\images500\\id_53cc6011ac07c1253684d3d5.jpg</td>\n",
       "      <td>id_53cc6011ac07c1253684d3d5.jpg</td>\n",
       "      <td>1.0</td>\n",
       "      <td>2.0</td>\n",
       "    </tr>\n",
       "    <tr>\n",
       "      <th>7</th>\n",
       "      <td>images500-20221123T124124Z-001\\images500\\id_caa1f3f04a7d8ef6424ad0b6.jpg</td>\n",
       "      <td>id_caa1f3f04a7d8ef6424ad0b6.jpg</td>\n",
       "      <td>0.0</td>\n",
       "      <td>14.0</td>\n",
       "    </tr>\n",
       "    <tr>\n",
       "      <th>8</th>\n",
       "      <td>images500-20221123T124124Z-001\\images500\\id_77d2f9116c3995bd4f0a0c4a.jpg</td>\n",
       "      <td>id_77d2f9116c3995bd4f0a0c4a.jpg</td>\n",
       "      <td>0.0</td>\n",
       "      <td>0.0</td>\n",
       "    </tr>\n",
       "    <tr>\n",
       "      <th>9</th>\n",
       "      <td>images500-20221123T124124Z-001\\images500\\id_1b967f0264e819e3dfde5345.jpg</td>\n",
       "      <td>id_1b967f0264e819e3dfde5345.jpg</td>\n",
       "      <td>13.0</td>\n",
       "      <td>0.0</td>\n",
       "    </tr>\n",
       "    <tr>\n",
       "      <th>10</th>\n",
       "      <td>images500-20221123T124124Z-001\\images500\\id_53f2f3e02504f19f683dbdee.jpg</td>\n",
       "      <td>id_53f2f3e02504f19f683dbdee.jpg</td>\n",
       "      <td>0.0</td>\n",
       "      <td>20.0</td>\n",
       "    </tr>\n",
       "    <tr>\n",
       "      <th>11</th>\n",
       "      <td>images500-20221123T124124Z-001\\images500\\id_323ea125ab00a047a32fb250.jpg</td>\n",
       "      <td>id_323ea125ab00a047a32fb250.jpg</td>\n",
       "      <td>0.0</td>\n",
       "      <td>4.0</td>\n",
       "    </tr>\n",
       "    <tr>\n",
       "      <th>12</th>\n",
       "      <td>images500-20221123T124124Z-001\\images500\\id_b5aaca39208cd2f42fb95c41.jpg</td>\n",
       "      <td>id_b5aaca39208cd2f42fb95c41.jpg</td>\n",
       "      <td>0.0</td>\n",
       "      <td>2.0</td>\n",
       "    </tr>\n",
       "    <tr>\n",
       "      <th>13</th>\n",
       "      <td>images500-20221123T124124Z-001\\images500\\id_d5467019afa108b7e384743b.jpg</td>\n",
       "      <td>id_d5467019afa108b7e384743b.jpg</td>\n",
       "      <td>0.0</td>\n",
       "      <td>0.0</td>\n",
       "    </tr>\n",
       "    <tr>\n",
       "      <th>14</th>\n",
       "      <td>images500-20221123T124124Z-001\\images500\\id_e3e398c36b83e61e72f8c7e9.jpg</td>\n",
       "      <td>id_e3e398c36b83e61e72f8c7e9.jpg</td>\n",
       "      <td>0.0</td>\n",
       "      <td>0.0</td>\n",
       "    </tr>\n",
       "    <tr>\n",
       "      <th>15</th>\n",
       "      <td>images500-20221123T124124Z-001\\images500\\id_4e47f2a5b0751a4f00c82efe.jpg</td>\n",
       "      <td>id_4e47f2a5b0751a4f00c82efe.jpg</td>\n",
       "      <td>0.0</td>\n",
       "      <td>0.0</td>\n",
       "    </tr>\n",
       "    <tr>\n",
       "      <th>16</th>\n",
       "      <td>images500-20221123T124124Z-001\\images500\\id_7423f5397b8b4029e27998e3.jpg</td>\n",
       "      <td>id_7423f5397b8b4029e27998e3.jpg</td>\n",
       "      <td>0.0</td>\n",
       "      <td>18.0</td>\n",
       "    </tr>\n",
       "    <tr>\n",
       "      <th>17</th>\n",
       "      <td>images500-20221123T124124Z-001\\images500\\id_9fdc79ac680a3b1a3adb54c6.jpg</td>\n",
       "      <td>id_9fdc79ac680a3b1a3adb54c6.jpg</td>\n",
       "      <td>0.0</td>\n",
       "      <td>0.0</td>\n",
       "    </tr>\n",
       "    <tr>\n",
       "      <th>18</th>\n",
       "      <td>images500-20221123T124124Z-001\\images500\\id_f8f857f02c602a2850a58208.jpg</td>\n",
       "      <td>id_f8f857f02c602a2850a58208.jpg</td>\n",
       "      <td>3.0</td>\n",
       "      <td>1.0</td>\n",
       "    </tr>\n",
       "    <tr>\n",
       "      <th>19</th>\n",
       "      <td>images500-20221123T124124Z-001\\images500\\id_76d58f15c5aebdda5ed6ed23.jpg</td>\n",
       "      <td>id_76d58f15c5aebdda5ed6ed23.jpg</td>\n",
       "      <td>0.0</td>\n",
       "      <td>91.0</td>\n",
       "    </tr>\n",
       "    <tr>\n",
       "      <th>20</th>\n",
       "      <td>images500-20221123T124124Z-001\\images500\\id_5661824015549a5ae2eb8170.jpg</td>\n",
       "      <td>id_5661824015549a5ae2eb8170.jpg</td>\n",
       "      <td>0.0</td>\n",
       "      <td>0.0</td>\n",
       "    </tr>\n",
       "    <tr>\n",
       "      <th>21</th>\n",
       "      <td>images500-20221123T124124Z-001\\images500\\id_e581116293ca0c4546d93eee.jpg</td>\n",
       "      <td>id_e581116293ca0c4546d93eee.jpg</td>\n",
       "      <td>0.0</td>\n",
       "      <td>0.0</td>\n",
       "    </tr>\n",
       "    <tr>\n",
       "      <th>22</th>\n",
       "      <td>images500-20221123T124124Z-001\\images500\\id_792d5d41dbe3ff07716d735f.jpg</td>\n",
       "      <td>id_792d5d41dbe3ff07716d735f.jpg</td>\n",
       "      <td>0.0</td>\n",
       "      <td>6.0</td>\n",
       "    </tr>\n",
       "    <tr>\n",
       "      <th>23</th>\n",
       "      <td>images500-20221123T124124Z-001\\images500\\id_71af263a5524d2b7a4ff4370.jpg</td>\n",
       "      <td>id_71af263a5524d2b7a4ff4370.jpg</td>\n",
       "      <td>0.0</td>\n",
       "      <td>20.0</td>\n",
       "    </tr>\n",
       "    <tr>\n",
       "      <th>24</th>\n",
       "      <td>images500-20221123T124124Z-001\\images500\\id_803630c3115acee1e4e9027e.jpg</td>\n",
       "      <td>id_803630c3115acee1e4e9027e.jpg</td>\n",
       "      <td>0.0</td>\n",
       "      <td>0.0</td>\n",
       "    </tr>\n",
       "    <tr>\n",
       "      <th>25</th>\n",
       "      <td>images500-20221123T124124Z-001\\images500\\id_79cfe6e8bfb04ecb0336fef1.jpg</td>\n",
       "      <td>id_79cfe6e8bfb04ecb0336fef1.jpg</td>\n",
       "      <td>1.0</td>\n",
       "      <td>9.0</td>\n",
       "    </tr>\n",
       "    <tr>\n",
       "      <th>26</th>\n",
       "      <td>images500-20221123T124124Z-001\\images500\\id_c5651b4b173ee508729d72c7.jpg</td>\n",
       "      <td>id_c5651b4b173ee508729d72c7.jpg</td>\n",
       "      <td>0.0</td>\n",
       "      <td>1.0</td>\n",
       "    </tr>\n",
       "    <tr>\n",
       "      <th>27</th>\n",
       "      <td>images500-20221123T124124Z-001\\images500\\id_67f4de9983c977514cc62517.jpg</td>\n",
       "      <td>id_67f4de9983c977514cc62517.jpg</td>\n",
       "      <td>0.0</td>\n",
       "      <td>0.0</td>\n",
       "    </tr>\n",
       "    <tr>\n",
       "      <th>28</th>\n",
       "      <td>images500-20221123T124124Z-001\\images500\\id_939e4635c12e88dca2dc5330.jpg</td>\n",
       "      <td>id_939e4635c12e88dca2dc5330.jpg</td>\n",
       "      <td>0.0</td>\n",
       "      <td>3.0</td>\n",
       "    </tr>\n",
       "    <tr>\n",
       "      <th>29</th>\n",
       "      <td>images500-20221123T124124Z-001\\images500\\id_1387cd3e6bb46b7330efc624.jpg</td>\n",
       "      <td>id_1387cd3e6bb46b7330efc624.jpg</td>\n",
       "      <td>0.0</td>\n",
       "      <td>10.0</td>\n",
       "    </tr>\n",
       "    <tr>\n",
       "      <th>30</th>\n",
       "      <td>images500-20221123T124124Z-001\\images500\\id_bffada116cc56082528528e1.jpg</td>\n",
       "      <td>id_bffada116cc56082528528e1.jpg</td>\n",
       "      <td>0.0</td>\n",
       "      <td>0.0</td>\n",
       "    </tr>\n",
       "    <tr>\n",
       "      <th>31</th>\n",
       "      <td>images500-20221123T124124Z-001\\images500\\id_87a64a0b4b718886ea064b1b.jpg</td>\n",
       "      <td>id_87a64a0b4b718886ea064b1b.jpg</td>\n",
       "      <td>0.0</td>\n",
       "      <td>0.0</td>\n",
       "    </tr>\n",
       "    <tr>\n",
       "      <th>32</th>\n",
       "      <td>images500-20221123T124124Z-001\\images500\\id_2da269f40841a8311f8fec33.jpg</td>\n",
       "      <td>id_2da269f40841a8311f8fec33.jpg</td>\n",
       "      <td>3.0</td>\n",
       "      <td>0.0</td>\n",
       "    </tr>\n",
       "    <tr>\n",
       "      <th>33</th>\n",
       "      <td>images500-20221123T124124Z-001\\images500\\id_5ff7ef57f87ec052403e821b.jpg</td>\n",
       "      <td>id_5ff7ef57f87ec052403e821b.jpg</td>\n",
       "      <td>6.0</td>\n",
       "      <td>0.0</td>\n",
       "    </tr>\n",
       "    <tr>\n",
       "      <th>34</th>\n",
       "      <td>images500-20221123T124124Z-001\\images500\\id_8e30ea1ebdc82cb355abf08a.jpg</td>\n",
       "      <td>id_8e30ea1ebdc82cb355abf08a.jpg</td>\n",
       "      <td>0.0</td>\n",
       "      <td>0.0</td>\n",
       "    </tr>\n",
       "    <tr>\n",
       "      <th>35</th>\n",
       "      <td>images500-20221123T124124Z-001\\images500\\id_06f7d6a03aca281bb4c296f6.jpg</td>\n",
       "      <td>id_06f7d6a03aca281bb4c296f6.jpg</td>\n",
       "      <td>0.0</td>\n",
       "      <td>5.0</td>\n",
       "    </tr>\n",
       "    <tr>\n",
       "      <th>36</th>\n",
       "      <td>images500-20221123T124124Z-001\\images500\\id_f3d744220357b11545aa3223.jpg</td>\n",
       "      <td>id_f3d744220357b11545aa3223.jpg</td>\n",
       "      <td>0.0</td>\n",
       "      <td>7.0</td>\n",
       "    </tr>\n",
       "    <tr>\n",
       "      <th>37</th>\n",
       "      <td>images500-20221123T124124Z-001\\images500\\id_4c675996c3ccfd6d6c813f57.jpg</td>\n",
       "      <td>id_4c675996c3ccfd6d6c813f57.jpg</td>\n",
       "      <td>0.0</td>\n",
       "      <td>0.0</td>\n",
       "    </tr>\n",
       "    <tr>\n",
       "      <th>38</th>\n",
       "      <td>images500-20221123T124124Z-001\\images500\\id_1cced6d714783d96f9f4ea16.jpg</td>\n",
       "      <td>id_1cced6d714783d96f9f4ea16.jpg</td>\n",
       "      <td>0.0</td>\n",
       "      <td>4.0</td>\n",
       "    </tr>\n",
       "    <tr>\n",
       "      <th>39</th>\n",
       "      <td>images500-20221123T124124Z-001\\images500\\id_9d7a3d3056cf176aeb6dedab.jpg</td>\n",
       "      <td>id_9d7a3d3056cf176aeb6dedab.jpg</td>\n",
       "      <td>0.0</td>\n",
       "      <td>0.0</td>\n",
       "    </tr>\n",
       "    <tr>\n",
       "      <th>40</th>\n",
       "      <td>images500-20221123T124124Z-001\\images500\\id_0e9178f1fa16f9f329fdc434.jpg</td>\n",
       "      <td>id_0e9178f1fa16f9f329fdc434.jpg</td>\n",
       "      <td>0.0</td>\n",
       "      <td>0.0</td>\n",
       "    </tr>\n",
       "    <tr>\n",
       "      <th>41</th>\n",
       "      <td>images500-20221123T124124Z-001\\images500\\id_cc55e43708a539129e5e7eed.jpg</td>\n",
       "      <td>id_cc55e43708a539129e5e7eed.jpg</td>\n",
       "      <td>0.0</td>\n",
       "      <td>1.0</td>\n",
       "    </tr>\n",
       "    <tr>\n",
       "      <th>42</th>\n",
       "      <td>images500-20221123T124124Z-001\\images500\\id_ab26e73326bfe44f110a8307.jpg</td>\n",
       "      <td>id_ab26e73326bfe44f110a8307.jpg</td>\n",
       "      <td>3.0</td>\n",
       "      <td>0.0</td>\n",
       "    </tr>\n",
       "    <tr>\n",
       "      <th>43</th>\n",
       "      <td>images500-20221123T124124Z-001\\images500\\id_d0a02e66b0e7aba0f752cfa8.jpg</td>\n",
       "      <td>id_d0a02e66b0e7aba0f752cfa8.jpg</td>\n",
       "      <td>0.0</td>\n",
       "      <td>0.0</td>\n",
       "    </tr>\n",
       "    <tr>\n",
       "      <th>44</th>\n",
       "      <td>images500-20221123T124124Z-001\\images500\\id_4c39f2139430352613ad77bd.jpg</td>\n",
       "      <td>id_4c39f2139430352613ad77bd.jpg</td>\n",
       "      <td>0.0</td>\n",
       "      <td>6.0</td>\n",
       "    </tr>\n",
       "    <tr>\n",
       "      <th>45</th>\n",
       "      <td>images500-20221123T124124Z-001\\images500\\id_04c3e04aa9cc4b6b08dccb10.jpg</td>\n",
       "      <td>id_04c3e04aa9cc4b6b08dccb10.jpg</td>\n",
       "      <td>0.0</td>\n",
       "      <td>2.0</td>\n",
       "    </tr>\n",
       "    <tr>\n",
       "      <th>46</th>\n",
       "      <td>images500-20221123T124124Z-001\\images500\\id_e03286b0683ba55dfc4d70e6.jpg</td>\n",
       "      <td>id_e03286b0683ba55dfc4d70e6.jpg</td>\n",
       "      <td>0.0</td>\n",
       "      <td>0.0</td>\n",
       "    </tr>\n",
       "    <tr>\n",
       "      <th>47</th>\n",
       "      <td>images500-20221123T124124Z-001\\images500\\id_b03b3d05a3eab799bf7aba6b.jpg</td>\n",
       "      <td>id_b03b3d05a3eab799bf7aba6b.jpg</td>\n",
       "      <td>1.0</td>\n",
       "      <td>10.0</td>\n",
       "    </tr>\n",
       "    <tr>\n",
       "      <th>48</th>\n",
       "      <td>images500-20221123T124124Z-001\\images500\\id_07ab4e2a779122f6fae834f5.jpg</td>\n",
       "      <td>id_07ab4e2a779122f6fae834f5.jpg</td>\n",
       "      <td>0.0</td>\n",
       "      <td>29.0</td>\n",
       "    </tr>\n",
       "    <tr>\n",
       "      <th>49</th>\n",
       "      <td>images500-20221123T124124Z-001\\images500\\id_b2387fc22a82384422f074b7.jpg</td>\n",
       "      <td>id_b2387fc22a82384422f074b7.jpg</td>\n",
       "      <td>0.0</td>\n",
       "      <td>0.0</td>\n",
       "    </tr>\n",
       "  </tbody>\n",
       "</table>\n",
       "</div>"
      ],
      "text/plain": [
       "                                                                    Filepath  \\\n",
       "0   images500-20221123T124124Z-001\\images500\\id_c19995f5ada0099b71d76cd2.jpg   \n",
       "1   images500-20221123T124124Z-001\\images500\\id_3c4ebbfe1adc8bd2db189c97.jpg   \n",
       "2   images500-20221123T124124Z-001\\images500\\id_ca57a7cbcfff8a446932ed24.jpg   \n",
       "3   images500-20221123T124124Z-001\\images500\\id_95deaa280c28018dfa51f41c.jpg   \n",
       "4   images500-20221123T124124Z-001\\images500\\id_2e2b0def2c3333ff0a7b7fcd.jpg   \n",
       "5   images500-20221123T124124Z-001\\images500\\id_ddd43c362c560d5b3cd18f7b.jpg   \n",
       "6   images500-20221123T124124Z-001\\images500\\id_53cc6011ac07c1253684d3d5.jpg   \n",
       "7   images500-20221123T124124Z-001\\images500\\id_caa1f3f04a7d8ef6424ad0b6.jpg   \n",
       "8   images500-20221123T124124Z-001\\images500\\id_77d2f9116c3995bd4f0a0c4a.jpg   \n",
       "9   images500-20221123T124124Z-001\\images500\\id_1b967f0264e819e3dfde5345.jpg   \n",
       "10  images500-20221123T124124Z-001\\images500\\id_53f2f3e02504f19f683dbdee.jpg   \n",
       "11  images500-20221123T124124Z-001\\images500\\id_323ea125ab00a047a32fb250.jpg   \n",
       "12  images500-20221123T124124Z-001\\images500\\id_b5aaca39208cd2f42fb95c41.jpg   \n",
       "13  images500-20221123T124124Z-001\\images500\\id_d5467019afa108b7e384743b.jpg   \n",
       "14  images500-20221123T124124Z-001\\images500\\id_e3e398c36b83e61e72f8c7e9.jpg   \n",
       "15  images500-20221123T124124Z-001\\images500\\id_4e47f2a5b0751a4f00c82efe.jpg   \n",
       "16  images500-20221123T124124Z-001\\images500\\id_7423f5397b8b4029e27998e3.jpg   \n",
       "17  images500-20221123T124124Z-001\\images500\\id_9fdc79ac680a3b1a3adb54c6.jpg   \n",
       "18  images500-20221123T124124Z-001\\images500\\id_f8f857f02c602a2850a58208.jpg   \n",
       "19  images500-20221123T124124Z-001\\images500\\id_76d58f15c5aebdda5ed6ed23.jpg   \n",
       "20  images500-20221123T124124Z-001\\images500\\id_5661824015549a5ae2eb8170.jpg   \n",
       "21  images500-20221123T124124Z-001\\images500\\id_e581116293ca0c4546d93eee.jpg   \n",
       "22  images500-20221123T124124Z-001\\images500\\id_792d5d41dbe3ff07716d735f.jpg   \n",
       "23  images500-20221123T124124Z-001\\images500\\id_71af263a5524d2b7a4ff4370.jpg   \n",
       "24  images500-20221123T124124Z-001\\images500\\id_803630c3115acee1e4e9027e.jpg   \n",
       "25  images500-20221123T124124Z-001\\images500\\id_79cfe6e8bfb04ecb0336fef1.jpg   \n",
       "26  images500-20221123T124124Z-001\\images500\\id_c5651b4b173ee508729d72c7.jpg   \n",
       "27  images500-20221123T124124Z-001\\images500\\id_67f4de9983c977514cc62517.jpg   \n",
       "28  images500-20221123T124124Z-001\\images500\\id_939e4635c12e88dca2dc5330.jpg   \n",
       "29  images500-20221123T124124Z-001\\images500\\id_1387cd3e6bb46b7330efc624.jpg   \n",
       "30  images500-20221123T124124Z-001\\images500\\id_bffada116cc56082528528e1.jpg   \n",
       "31  images500-20221123T124124Z-001\\images500\\id_87a64a0b4b718886ea064b1b.jpg   \n",
       "32  images500-20221123T124124Z-001\\images500\\id_2da269f40841a8311f8fec33.jpg   \n",
       "33  images500-20221123T124124Z-001\\images500\\id_5ff7ef57f87ec052403e821b.jpg   \n",
       "34  images500-20221123T124124Z-001\\images500\\id_8e30ea1ebdc82cb355abf08a.jpg   \n",
       "35  images500-20221123T124124Z-001\\images500\\id_06f7d6a03aca281bb4c296f6.jpg   \n",
       "36  images500-20221123T124124Z-001\\images500\\id_f3d744220357b11545aa3223.jpg   \n",
       "37  images500-20221123T124124Z-001\\images500\\id_4c675996c3ccfd6d6c813f57.jpg   \n",
       "38  images500-20221123T124124Z-001\\images500\\id_1cced6d714783d96f9f4ea16.jpg   \n",
       "39  images500-20221123T124124Z-001\\images500\\id_9d7a3d3056cf176aeb6dedab.jpg   \n",
       "40  images500-20221123T124124Z-001\\images500\\id_0e9178f1fa16f9f329fdc434.jpg   \n",
       "41  images500-20221123T124124Z-001\\images500\\id_cc55e43708a539129e5e7eed.jpg   \n",
       "42  images500-20221123T124124Z-001\\images500\\id_ab26e73326bfe44f110a8307.jpg   \n",
       "43  images500-20221123T124124Z-001\\images500\\id_d0a02e66b0e7aba0f752cfa8.jpg   \n",
       "44  images500-20221123T124124Z-001\\images500\\id_4c39f2139430352613ad77bd.jpg   \n",
       "45  images500-20221123T124124Z-001\\images500\\id_04c3e04aa9cc4b6b08dccb10.jpg   \n",
       "46  images500-20221123T124124Z-001\\images500\\id_e03286b0683ba55dfc4d70e6.jpg   \n",
       "47  images500-20221123T124124Z-001\\images500\\id_b03b3d05a3eab799bf7aba6b.jpg   \n",
       "48  images500-20221123T124124Z-001\\images500\\id_07ab4e2a779122f6fae834f5.jpg   \n",
       "49  images500-20221123T124124Z-001\\images500\\id_b2387fc22a82384422f074b7.jpg   \n",
       "\n",
       "                      image_id_worm   abw   pbw  \n",
       "0   id_c19995f5ada0099b71d76cd2.jpg   0.0   0.0  \n",
       "1   id_3c4ebbfe1adc8bd2db189c97.jpg   0.0   0.0  \n",
       "2   id_ca57a7cbcfff8a446932ed24.jpg   2.0   0.0  \n",
       "3   id_95deaa280c28018dfa51f41c.jpg   0.0  51.0  \n",
       "4   id_2e2b0def2c3333ff0a7b7fcd.jpg   0.0   0.0  \n",
       "5   id_ddd43c362c560d5b3cd18f7b.jpg   0.0   0.0  \n",
       "6   id_53cc6011ac07c1253684d3d5.jpg   1.0   2.0  \n",
       "7   id_caa1f3f04a7d8ef6424ad0b6.jpg   0.0  14.0  \n",
       "8   id_77d2f9116c3995bd4f0a0c4a.jpg   0.0   0.0  \n",
       "9   id_1b967f0264e819e3dfde5345.jpg  13.0   0.0  \n",
       "10  id_53f2f3e02504f19f683dbdee.jpg   0.0  20.0  \n",
       "11  id_323ea125ab00a047a32fb250.jpg   0.0   4.0  \n",
       "12  id_b5aaca39208cd2f42fb95c41.jpg   0.0   2.0  \n",
       "13  id_d5467019afa108b7e384743b.jpg   0.0   0.0  \n",
       "14  id_e3e398c36b83e61e72f8c7e9.jpg   0.0   0.0  \n",
       "15  id_4e47f2a5b0751a4f00c82efe.jpg   0.0   0.0  \n",
       "16  id_7423f5397b8b4029e27998e3.jpg   0.0  18.0  \n",
       "17  id_9fdc79ac680a3b1a3adb54c6.jpg   0.0   0.0  \n",
       "18  id_f8f857f02c602a2850a58208.jpg   3.0   1.0  \n",
       "19  id_76d58f15c5aebdda5ed6ed23.jpg   0.0  91.0  \n",
       "20  id_5661824015549a5ae2eb8170.jpg   0.0   0.0  \n",
       "21  id_e581116293ca0c4546d93eee.jpg   0.0   0.0  \n",
       "22  id_792d5d41dbe3ff07716d735f.jpg   0.0   6.0  \n",
       "23  id_71af263a5524d2b7a4ff4370.jpg   0.0  20.0  \n",
       "24  id_803630c3115acee1e4e9027e.jpg   0.0   0.0  \n",
       "25  id_79cfe6e8bfb04ecb0336fef1.jpg   1.0   9.0  \n",
       "26  id_c5651b4b173ee508729d72c7.jpg   0.0   1.0  \n",
       "27  id_67f4de9983c977514cc62517.jpg   0.0   0.0  \n",
       "28  id_939e4635c12e88dca2dc5330.jpg   0.0   3.0  \n",
       "29  id_1387cd3e6bb46b7330efc624.jpg   0.0  10.0  \n",
       "30  id_bffada116cc56082528528e1.jpg   0.0   0.0  \n",
       "31  id_87a64a0b4b718886ea064b1b.jpg   0.0   0.0  \n",
       "32  id_2da269f40841a8311f8fec33.jpg   3.0   0.0  \n",
       "33  id_5ff7ef57f87ec052403e821b.jpg   6.0   0.0  \n",
       "34  id_8e30ea1ebdc82cb355abf08a.jpg   0.0   0.0  \n",
       "35  id_06f7d6a03aca281bb4c296f6.jpg   0.0   5.0  \n",
       "36  id_f3d744220357b11545aa3223.jpg   0.0   7.0  \n",
       "37  id_4c675996c3ccfd6d6c813f57.jpg   0.0   0.0  \n",
       "38  id_1cced6d714783d96f9f4ea16.jpg   0.0   4.0  \n",
       "39  id_9d7a3d3056cf176aeb6dedab.jpg   0.0   0.0  \n",
       "40  id_0e9178f1fa16f9f329fdc434.jpg   0.0   0.0  \n",
       "41  id_cc55e43708a539129e5e7eed.jpg   0.0   1.0  \n",
       "42  id_ab26e73326bfe44f110a8307.jpg   3.0   0.0  \n",
       "43  id_d0a02e66b0e7aba0f752cfa8.jpg   0.0   0.0  \n",
       "44  id_4c39f2139430352613ad77bd.jpg   0.0   6.0  \n",
       "45  id_04c3e04aa9cc4b6b08dccb10.jpg   0.0   2.0  \n",
       "46  id_e03286b0683ba55dfc4d70e6.jpg   0.0   0.0  \n",
       "47  id_b03b3d05a3eab799bf7aba6b.jpg   1.0  10.0  \n",
       "48  id_07ab4e2a779122f6fae834f5.jpg   0.0  29.0  \n",
       "49  id_b2387fc22a82384422f074b7.jpg   0.0   0.0  "
      ]
     },
     "execution_count": 720,
     "metadata": {},
     "output_type": "execute_result"
    }
   ],
   "source": [
    "image_df.head(50)"
   ]
  },
  {
   "cell_type": "code",
   "execution_count": 722,
   "id": "e69c2673",
   "metadata": {},
   "outputs": [],
   "source": [
    "image_df = image_df.drop('image_id_worm', axis = 1)"
   ]
  },
  {
   "cell_type": "code",
   "execution_count": 723,
   "id": "e4737bf0",
   "metadata": {
    "scrolled": true
   },
   "outputs": [
    {
     "data": {
      "text/html": [
       "<div>\n",
       "<style scoped>\n",
       "    .dataframe tbody tr th:only-of-type {\n",
       "        vertical-align: middle;\n",
       "    }\n",
       "\n",
       "    .dataframe tbody tr th {\n",
       "        vertical-align: top;\n",
       "    }\n",
       "\n",
       "    .dataframe thead th {\n",
       "        text-align: right;\n",
       "    }\n",
       "</style>\n",
       "<table border=\"1\" class=\"dataframe\">\n",
       "  <thead>\n",
       "    <tr style=\"text-align: right;\">\n",
       "      <th></th>\n",
       "      <th>Filepath</th>\n",
       "      <th>abw</th>\n",
       "      <th>pbw</th>\n",
       "    </tr>\n",
       "  </thead>\n",
       "  <tbody>\n",
       "    <tr>\n",
       "      <th>0</th>\n",
       "      <td>images500-20221123T124124Z-001\\images500\\id_c19995f5ada0099b71d76cd2.jpg</td>\n",
       "      <td>0.0</td>\n",
       "      <td>0.0</td>\n",
       "    </tr>\n",
       "    <tr>\n",
       "      <th>1</th>\n",
       "      <td>images500-20221123T124124Z-001\\images500\\id_3c4ebbfe1adc8bd2db189c97.jpg</td>\n",
       "      <td>0.0</td>\n",
       "      <td>0.0</td>\n",
       "    </tr>\n",
       "    <tr>\n",
       "      <th>2</th>\n",
       "      <td>images500-20221123T124124Z-001\\images500\\id_ca57a7cbcfff8a446932ed24.jpg</td>\n",
       "      <td>2.0</td>\n",
       "      <td>0.0</td>\n",
       "    </tr>\n",
       "    <tr>\n",
       "      <th>3</th>\n",
       "      <td>images500-20221123T124124Z-001\\images500\\id_95deaa280c28018dfa51f41c.jpg</td>\n",
       "      <td>0.0</td>\n",
       "      <td>51.0</td>\n",
       "    </tr>\n",
       "    <tr>\n",
       "      <th>4</th>\n",
       "      <td>images500-20221123T124124Z-001\\images500\\id_2e2b0def2c3333ff0a7b7fcd.jpg</td>\n",
       "      <td>0.0</td>\n",
       "      <td>0.0</td>\n",
       "    </tr>\n",
       "  </tbody>\n",
       "</table>\n",
       "</div>"
      ],
      "text/plain": [
       "                                                                   Filepath  \\\n",
       "0  images500-20221123T124124Z-001\\images500\\id_c19995f5ada0099b71d76cd2.jpg   \n",
       "1  images500-20221123T124124Z-001\\images500\\id_3c4ebbfe1adc8bd2db189c97.jpg   \n",
       "2  images500-20221123T124124Z-001\\images500\\id_ca57a7cbcfff8a446932ed24.jpg   \n",
       "3  images500-20221123T124124Z-001\\images500\\id_95deaa280c28018dfa51f41c.jpg   \n",
       "4  images500-20221123T124124Z-001\\images500\\id_2e2b0def2c3333ff0a7b7fcd.jpg   \n",
       "\n",
       "   abw   pbw  \n",
       "0  0.0   0.0  \n",
       "1  0.0   0.0  \n",
       "2  2.0   0.0  \n",
       "3  0.0  51.0  \n",
       "4  0.0   0.0  "
      ]
     },
     "execution_count": 723,
     "metadata": {},
     "output_type": "execute_result"
    }
   ],
   "source": [
    "image_df.head()"
   ]
  },
  {
   "cell_type": "code",
   "execution_count": 724,
   "id": "fd10e9de",
   "metadata": {},
   "outputs": [],
   "source": [
    "image_df[['abw','pbw']] = image_df[['abw','pbw']].astype(int)"
   ]
  },
  {
   "cell_type": "code",
   "execution_count": 725,
   "id": "f9324b54",
   "metadata": {
    "scrolled": true
   },
   "outputs": [
    {
     "data": {
      "image/png": "[encoded data removed]",
      "text/plain": [
       "<Figure size 500x500 with 1 Axes>"
      ]
     },
     "metadata": {},
     "output_type": "display_data"
    }
   ],
   "source": [
    "sns.displot(image_df['abw'], kde=False);"
   ]
  },
  {
   "cell_type": "code",
   "execution_count": 726,
   "id": "ce5322ae",
   "metadata": {
    "scrolled": true
   },
   "outputs": [
    {
     "data": {
      "image/png": "[encoded data removed]",
      "text/plain": [
       "<Figure size 500x500 with 1 Axes>"
      ]
     },
     "metadata": {},
     "output_type": "display_data"
    }
   ],
   "source": [
    "sns.displot(image_df['pbw'], kde=False);"
   ]
  },
  {
   "cell_type": "code",
   "execution_count": 730,
   "id": "e7c496c0",
   "metadata": {},
   "outputs": [],
   "source": [
    "train_df, test_df = train_test_split(image_df, test_size = 0.1, shuffle = True,random_state = 42)"
   ]
  },
  {
   "cell_type": "code",
   "execution_count": 731,
   "id": "ce8678f2",
   "metadata": {},
   "outputs": [
    {
     "name": "stdout",
     "output_type": "stream",
     "text": [
      "(8763, 3)\n",
      "(974, 3)\n"
     ]
    }
   ],
   "source": [
    "print(train_df.shape)\n",
    "print(test_df.shape)"
   ]
  },
  {
   "cell_type": "code",
   "execution_count": 732,
   "id": "9c6b9ad6",
   "metadata": {},
   "outputs": [],
   "source": [
    "import os\n",
    "import PIL"
   ]
  },
  {
   "cell_type": "code",
   "execution_count": 733,
   "id": "e7a2af49",
   "metadata": {
    "scrolled": false
   },
   "outputs": [
    {
     "data": {
      "text/html": [
       "<div>\n",
       "<style scoped>\n",
       "    .dataframe tbody tr th:only-of-type {\n",
       "        vertical-align: middle;\n",
       "    }\n",
       "\n",
       "    .dataframe tbody tr th {\n",
       "        vertical-align: top;\n",
       "    }\n",
       "\n",
       "    .dataframe thead th {\n",
       "        text-align: right;\n",
       "    }\n",
       "</style>\n",
       "<table border=\"1\" class=\"dataframe\">\n",
       "  <thead>\n",
       "    <tr style=\"text-align: right;\">\n",
       "      <th></th>\n",
       "      <th>Filepath</th>\n",
       "      <th>abw</th>\n",
       "      <th>pbw</th>\n",
       "    </tr>\n",
       "  </thead>\n",
       "  <tbody>\n",
       "    <tr>\n",
       "      <th>6972</th>\n",
       "      <td>images500-20221123T124124Z-001\\images500\\id_55f50c5e115cbb3badb3bc04.jpg</td>\n",
       "      <td>0</td>\n",
       "      <td>0</td>\n",
       "    </tr>\n",
       "    <tr>\n",
       "      <th>2754</th>\n",
       "      <td>images500-20221123T124124Z-001\\images500\\id_10a950db2e9021abee34d177.jpg</td>\n",
       "      <td>0</td>\n",
       "      <td>4</td>\n",
       "    </tr>\n",
       "    <tr>\n",
       "      <th>381</th>\n",
       "      <td>images500-20221123T124124Z-001\\images500\\id_1b0a82c6e7ec896e737043b8.jpg</td>\n",
       "      <td>0</td>\n",
       "      <td>104</td>\n",
       "    </tr>\n",
       "    <tr>\n",
       "      <th>9063</th>\n",
       "      <td>images500-20221123T124124Z-001\\images500\\id_93c0e34fff61bfc8243be80c.jpg</td>\n",
       "      <td>4</td>\n",
       "      <td>0</td>\n",
       "    </tr>\n",
       "    <tr>\n",
       "      <th>1147</th>\n",
       "      <td>images500-20221123T124124Z-001\\images500\\id_d7d443bdd9667dc0829de9b9.jpg</td>\n",
       "      <td>9</td>\n",
       "      <td>0</td>\n",
       "    </tr>\n",
       "  </tbody>\n",
       "</table>\n",
       "</div>"
      ],
      "text/plain": [
       "                                                                      Filepath  \\\n",
       "6972  images500-20221123T124124Z-001\\images500\\id_55f50c5e115cbb3badb3bc04.jpg   \n",
       "2754  images500-20221123T124124Z-001\\images500\\id_10a950db2e9021abee34d177.jpg   \n",
       "381   images500-20221123T124124Z-001\\images500\\id_1b0a82c6e7ec896e737043b8.jpg   \n",
       "9063  images500-20221123T124124Z-001\\images500\\id_93c0e34fff61bfc8243be80c.jpg   \n",
       "1147  images500-20221123T124124Z-001\\images500\\id_d7d443bdd9667dc0829de9b9.jpg   \n",
       "\n",
       "      abw  pbw  \n",
       "6972    0    0  \n",
       "2754    0    4  \n",
       "381     0  104  \n",
       "9063    4    0  \n",
       "1147    9    0  "
      ]
     },
     "execution_count": 733,
     "metadata": {},
     "output_type": "execute_result"
    }
   ],
   "source": [
    "train_df.head()"
   ]
  },
  {
   "cell_type": "code",
   "execution_count": 734,
   "id": "1bfa4b59",
   "metadata": {},
   "outputs": [],
   "source": [
    "for i in range(4):\n",
    "    plt.subplot(2,2,i+1)\n",
    "    plt.imshow(plt.imread(train_df['Filepath'][i]))\n",
    "plt.show()"
   ]
  },
  {
   "cell_type": "code",
   "execution_count": 735,
   "id": "02e86110",
   "metadata": {},
   "outputs": [
    {
     "data": {
      "text/html": [
       "<div>\n",
       "<style scoped>\n",
       "    .dataframe tbody tr th:only-of-type {\n",
       "        vertical-align: middle;\n",
       "    }\n",
       "\n",
       "    .dataframe tbody tr th {\n",
       "        vertical-align: top;\n",
       "    }\n",
       "\n",
       "    .dataframe thead th {\n",
       "        text-align: right;\n",
       "    }\n",
       "</style>\n",
       "<table border=\"1\" class=\"dataframe\">\n",
       "  <thead>\n",
       "    <tr style=\"text-align: right;\">\n",
       "      <th></th>\n",
       "      <th>abw</th>\n",
       "      <th>pbw</th>\n",
       "    </tr>\n",
       "  </thead>\n",
       "  <tbody>\n",
       "    <tr>\n",
       "      <th>count</th>\n",
       "      <td>8763.000000</td>\n",
       "      <td>8763.000000</td>\n",
       "    </tr>\n",
       "    <tr>\n",
       "      <th>mean</th>\n",
       "      <td>0.961086</td>\n",
       "      <td>13.307429</td>\n",
       "    </tr>\n",
       "    <tr>\n",
       "      <th>std</th>\n",
       "      <td>2.495001</td>\n",
       "      <td>36.449231</td>\n",
       "    </tr>\n",
       "    <tr>\n",
       "      <th>min</th>\n",
       "      <td>0.000000</td>\n",
       "      <td>0.000000</td>\n",
       "    </tr>\n",
       "    <tr>\n",
       "      <th>25%</th>\n",
       "      <td>0.000000</td>\n",
       "      <td>0.000000</td>\n",
       "    </tr>\n",
       "    <tr>\n",
       "      <th>50%</th>\n",
       "      <td>0.000000</td>\n",
       "      <td>1.000000</td>\n",
       "    </tr>\n",
       "    <tr>\n",
       "      <th>75%</th>\n",
       "      <td>0.000000</td>\n",
       "      <td>9.000000</td>\n",
       "    </tr>\n",
       "    <tr>\n",
       "      <th>max</th>\n",
       "      <td>23.000000</td>\n",
       "      <td>527.000000</td>\n",
       "    </tr>\n",
       "  </tbody>\n",
       "</table>\n",
       "</div>"
      ],
      "text/plain": [
       "               abw          pbw\n",
       "count  8763.000000  8763.000000\n",
       "mean      0.961086    13.307429\n",
       "std       2.495001    36.449231\n",
       "min       0.000000     0.000000\n",
       "25%       0.000000     0.000000\n",
       "50%       0.000000     1.000000\n",
       "75%       0.000000     9.000000\n",
       "max      23.000000   527.000000"
      ]
     },
     "execution_count": 735,
     "metadata": {},
     "output_type": "execute_result"
    }
   ],
   "source": [
    "train_df.describe()"
   ]
  },
  {
   "cell_type": "code",
   "execution_count": 736,
   "id": "aae1e50c",
   "metadata": {},
   "outputs": [],
   "source": [
    "width,height = 1000,1000"
   ]
  },
  {
   "cell_type": "code",
   "execution_count": 737,
   "id": "ced76e75",
   "metadata": {},
   "outputs": [],
   "source": [
    "for t in image_df['Filepath']:\n",
    "    img = PIL.Image.open(t)\n",
    "    w, h = img.size\n",
    "    if w < width:\n",
    "        width = w\n",
    "    if h < height:\n",
    "        height = h\n",
    "\n",
    "IMG_WIDTH = width\n",
    "IMG_HEIGHT = height\n",
    "IMG_CHANNELS = 3"
   ]
  },
  {
   "cell_type": "code",
   "execution_count": 738,
   "id": "3eb158ab",
   "metadata": {},
   "outputs": [],
   "source": [
    "IMG_WIDTH"
   ]
  },
  {
   "cell_type": "code",
   "execution_count": 739,
   "id": "14ddbad0",
   "metadata": {},
   "outputs": [],
   "source": [
    "IMG_HEIGHT"
   ]
  },
  {
   "cell_type": "code",
   "execution_count": 740,
   "id": "2612c6f3",
   "metadata": {},
   "outputs": [],
   "source": [
    "train_gen = tf.keras.preprocessing.image.ImageDataGenerator(\n",
    "    rescale=1./255,\n",
    "    rotation_range = 90,\n",
    "    vertical_flip = True, \n",
    "    validation_split=0.2,\n",
    "    horizontal_flip=True, \n",
    "    fill_mode=\"nearest\"\n",
    ")"
   ]
  },
  {
   "cell_type": "code",
   "execution_count": 741,
   "id": "422316d2",
   "metadata": {},
   "outputs": [],
   "source": [
    "test_gen = tf.keras.preprocessing.image.ImageDataGenerator(\n",
    "    rescale=1./255,\n",
    "    \n",
    ")"
   ]
  },
  {
   "cell_type": "code",
   "execution_count": 742,
   "id": "92ea4900",
   "metadata": {
    "scrolled": false
   },
   "outputs": [
    {
     "data": {
      "text/html": [
       "<div>\n",
       "<style scoped>\n",
       "    .dataframe tbody tr th:only-of-type {\n",
       "        vertical-align: middle;\n",
       "    }\n",
       "\n",
       "    .dataframe tbody tr th {\n",
       "        vertical-align: top;\n",
       "    }\n",
       "\n",
       "    .dataframe thead th {\n",
       "        text-align: right;\n",
       "    }\n",
       "</style>\n",
       "<table border=\"1\" class=\"dataframe\">\n",
       "  <thead>\n",
       "    <tr style=\"text-align: right;\">\n",
       "      <th></th>\n",
       "      <th>Filepath</th>\n",
       "      <th>abw</th>\n",
       "      <th>pbw</th>\n",
       "    </tr>\n",
       "  </thead>\n",
       "  <tbody>\n",
       "    <tr>\n",
       "      <th>6972</th>\n",
       "      <td>images500-20221123T124124Z-001\\images500\\id_55f50c5e115cbb3badb3bc04.jpg</td>\n",
       "      <td>0</td>\n",
       "      <td>0</td>\n",
       "    </tr>\n",
       "    <tr>\n",
       "      <th>2754</th>\n",
       "      <td>images500-20221123T124124Z-001\\images500\\id_10a950db2e9021abee34d177.jpg</td>\n",
       "      <td>0</td>\n",
       "      <td>4</td>\n",
       "    </tr>\n",
       "    <tr>\n",
       "      <th>381</th>\n",
       "      <td>images500-20221123T124124Z-001\\images500\\id_1b0a82c6e7ec896e737043b8.jpg</td>\n",
       "      <td>0</td>\n",
       "      <td>104</td>\n",
       "    </tr>\n",
       "    <tr>\n",
       "      <th>9063</th>\n",
       "      <td>images500-20221123T124124Z-001\\images500\\id_93c0e34fff61bfc8243be80c.jpg</td>\n",
       "      <td>4</td>\n",
       "      <td>0</td>\n",
       "    </tr>\n",
       "    <tr>\n",
       "      <th>1147</th>\n",
       "      <td>images500-20221123T124124Z-001\\images500\\id_d7d443bdd9667dc0829de9b9.jpg</td>\n",
       "      <td>9</td>\n",
       "      <td>0</td>\n",
       "    </tr>\n",
       "  </tbody>\n",
       "</table>\n",
       "</div>"
      ],
      "text/plain": [
       "                                                                      Filepath  \\\n",
       "6972  images500-20221123T124124Z-001\\images500\\id_55f50c5e115cbb3badb3bc04.jpg   \n",
       "2754  images500-20221123T124124Z-001\\images500\\id_10a950db2e9021abee34d177.jpg   \n",
       "381   images500-20221123T124124Z-001\\images500\\id_1b0a82c6e7ec896e737043b8.jpg   \n",
       "9063  images500-20221123T124124Z-001\\images500\\id_93c0e34fff61bfc8243be80c.jpg   \n",
       "1147  images500-20221123T124124Z-001\\images500\\id_d7d443bdd9667dc0829de9b9.jpg   \n",
       "\n",
       "      abw  pbw  \n",
       "6972    0    0  \n",
       "2754    0    4  \n",
       "381     0  104  \n",
       "9063    4    0  \n",
       "1147    9    0  "
      ]
     },
     "execution_count": 742,
     "metadata": {},
     "output_type": "execute_result"
    }
   ],
   "source": [
    "train_df.head()"
   ]
  },
  {
   "cell_type": "code",
   "execution_count": 744,
   "id": "0ab5d7d1",
   "metadata": {
    "scrolled": true
   },
   "outputs": [
    {
     "data": {
      "text/html": [
       "<div>\n",
       "<style scoped>\n",
       "    .dataframe tbody tr th:only-of-type {\n",
       "        vertical-align: middle;\n",
       "    }\n",
       "\n",
       "    .dataframe tbody tr th {\n",
       "        vertical-align: top;\n",
       "    }\n",
       "\n",
       "    .dataframe thead th {\n",
       "        text-align: right;\n",
       "    }\n",
       "</style>\n",
       "<table border=\"1\" class=\"dataframe\">\n",
       "  <thead>\n",
       "    <tr style=\"text-align: right;\">\n",
       "      <th></th>\n",
       "      <th>abw</th>\n",
       "      <th>pbw</th>\n",
       "    </tr>\n",
       "  </thead>\n",
       "  <tbody>\n",
       "    <tr>\n",
       "      <th>count</th>\n",
       "      <td>8763.000000</td>\n",
       "      <td>8763.000000</td>\n",
       "    </tr>\n",
       "    <tr>\n",
       "      <th>mean</th>\n",
       "      <td>0.961086</td>\n",
       "      <td>13.307429</td>\n",
       "    </tr>\n",
       "    <tr>\n",
       "      <th>std</th>\n",
       "      <td>2.495001</td>\n",
       "      <td>36.449231</td>\n",
       "    </tr>\n",
       "    <tr>\n",
       "      <th>min</th>\n",
       "      <td>0.000000</td>\n",
       "      <td>0.000000</td>\n",
       "    </tr>\n",
       "    <tr>\n",
       "      <th>25%</th>\n",
       "      <td>0.000000</td>\n",
       "      <td>0.000000</td>\n",
       "    </tr>\n",
       "    <tr>\n",
       "      <th>50%</th>\n",
       "      <td>0.000000</td>\n",
       "      <td>1.000000</td>\n",
       "    </tr>\n",
       "    <tr>\n",
       "      <th>75%</th>\n",
       "      <td>0.000000</td>\n",
       "      <td>9.000000</td>\n",
       "    </tr>\n",
       "    <tr>\n",
       "      <th>max</th>\n",
       "      <td>23.000000</td>\n",
       "      <td>527.000000</td>\n",
       "    </tr>\n",
       "  </tbody>\n",
       "</table>\n",
       "</div>"
      ],
      "text/plain": [
       "               abw          pbw\n",
       "count  8763.000000  8763.000000\n",
       "mean      0.961086    13.307429\n",
       "std       2.495001    36.449231\n",
       "min       0.000000     0.000000\n",
       "25%       0.000000     0.000000\n",
       "50%       0.000000     1.000000\n",
       "75%       0.000000     9.000000\n",
       "max      23.000000   527.000000"
      ]
     },
     "execution_count": 744,
     "metadata": {},
     "output_type": "execute_result"
    }
   ],
   "source": [
    "train_df.describe()"
   ]
  },
  {
   "cell_type": "code",
   "execution_count": 745,
   "id": "cc8ba4f6",
   "metadata": {},
   "outputs": [
    {
     "data": {
      "image/png": "[encoded data removed]",
      "text/plain": [
       "<Figure size 640x480 with 1 Axes>"
      ]
     },
     "metadata": {},
     "output_type": "display_data"
    }
   ],
   "source": [
    "plt.boxplot(train_df['pbw']);"
   ]
  },
  {
   "cell_type": "code",
   "execution_count": 746,
   "id": "f21203c7",
   "metadata": {},
   "outputs": [
    {
     "name": "stdout",
     "output_type": "stream",
     "text": [
      "Found 7011 validated image filenames.\n"
     ]
    }
   ],
   "source": [
    "train_images = train_gen.flow_from_dataframe(\n",
    "dataframe = train_df,\n",
    "x_col = 'Filepath',\n",
    "y_col = ['abw','pbw'],\n",
    "target = (256,256),\n",
    "color_mode = 'rgb',\n",
    "class_mode = 'raw',\n",
    "batch_size = 16, \n",
    "shuffle = True,\n",
    "seed = 42,\n",
    "subset = 'training'\n",
    ")"
   ]
  },
  {
   "cell_type": "code",
   "execution_count": 747,
   "id": "86a87e71",
   "metadata": {},
   "outputs": [
    {
     "name": "stdout",
     "output_type": "stream",
     "text": [
      "Found 1752 validated image filenames.\n"
     ]
    }
   ],
   "source": [
    "val_images = train_gen.flow_from_dataframe(\n",
    "dataframe = train_df,\n",
    "x_col = 'Filepath',\n",
    "y_col = ['abw','pbw'],\n",
    "target = (256,256),\n",
    "color_mode = 'rgb',\n",
    "class_mode = 'raw',\n",
    "batch_size = 16, \n",
    "shuffle = True,\n",
    "seed = 42,\n",
    "subset = 'validation'\n",
    ")"
   ]
  },
  {
   "cell_type": "code",
   "execution_count": 748,
   "id": "c8db2698",
   "metadata": {},
   "outputs": [
    {
     "name": "stdout",
     "output_type": "stream",
     "text": [
      "Found 974 validated image filenames.\n"
     ]
    }
   ],
   "source": [
    "test_images = test_gen.flow_from_dataframe(\n",
    "dataframe = test_df,\n",
    "x_col = 'Filepath',\n",
    "y_col = ['abw','pbw'],\n",
    "target = (256,256),\n",
    "color_mode = 'rgb',\n",
    "class_mode = 'raw',\n",
    "batch_size = 16, \n",
    "shuffle = False\n",
    ")"
   ]
  },
  {
   "cell_type": "code",
   "execution_count": null,
   "id": "27b0b658",
   "metadata": {},
   "outputs": [],
   "source": []
  },
  {
   "cell_type": "code",
   "execution_count": 659,
   "id": "a7ba96bb",
   "metadata": {},
   "outputs": [],
   "source": [
    "def visualize_aug(image_gen,df):\n",
    "    series = df.iloc[2]\n",
    "    df_aug_visualize = pd.concat([series,series], axis = 1).transpose()\n",
    "    iter_viz = image_gen.flow_from_dataframe(\n",
    "    dataframe = df_aug_visualize,\n",
    "    x_col = 'Filepath',\n",
    "    y_col = ['abw','pbw'],\n",
    "    class_mode = 'raw',\n",
    "    target_size = (256,256),\n",
    "    batch_size = 2)\n",
    "    \n",
    "    for i in range(9):\n",
    "        ax = plt.subplot(3,3,i+1)\n",
    "        batch = next(iter_viz)\n",
    "        img = batch[0]\n",
    "        img = img[1,:,:,:]\n",
    "        plt.imshow(img)\n",
    "        \n",
    "    plt.show()\n",
    "    plt.close()"
   ]
  },
  {
   "cell_type": "code",
   "execution_count": 660,
   "id": "b7260570",
   "metadata": {},
   "outputs": [
    {
     "name": "stdout",
     "output_type": "stream",
     "text": [
      "Found 2 validated image filenames.\n"
     ]
    },
    {
     "data": {
      "image/png": "[encoded data removed]",
      "text/plain": [
       "<Figure size 640x480 with 9 Axes>"
      ]
     },
     "metadata": {},
     "output_type": "display_data"
    }
   ],
   "source": [
    "visualize_aug(train_gen,train_df)"
   ]
  },
  {
   "cell_type": "code",
   "execution_count": 661,
   "id": "97b06e4b",
   "metadata": {},
   "outputs": [],
   "source": [
    "Inputs = tf.keras.Input((256,256,3))\n",
    "x = tf.keras.layers.Conv2D(filters = 32, kernel_size = (3,3), activation = 'relu')(Inputs)"
   ]
  },
  {
   "cell_type": "code",
   "execution_count": 662,
   "id": "64a7c90a",
   "metadata": {},
   "outputs": [
    {
     "data": {
      "text/plain": [
       "<KerasTensor: shape=(None, 254, 254, 32) dtype=float32 (created by layer 'conv2d_1')>"
      ]
     },
     "execution_count": 662,
     "metadata": {},
     "output_type": "execute_result"
    }
   ],
   "source": [
    "x"
   ]
  },
  {
   "cell_type": "code",
   "execution_count": 663,
   "id": "9c4d389f",
   "metadata": {},
   "outputs": [],
   "source": [
    "x=tf.keras.layers.BatchNormalization()(x)"
   ]
  },
  {
   "cell_type": "code",
   "execution_count": 664,
   "id": "ee9f40b5",
   "metadata": {},
   "outputs": [],
   "source": [
    "x=tf.keras.layers.MaxPool2D(2,2)(x)"
   ]
  },
  {
   "cell_type": "code",
   "execution_count": 665,
   "id": "fa76292d",
   "metadata": {},
   "outputs": [],
   "source": [
    "x = tf.keras.layers.Dropout(0.2)(x)"
   ]
  },
  {
   "cell_type": "code",
   "execution_count": 666,
   "id": "108d4fd7",
   "metadata": {},
   "outputs": [
    {
     "data": {
      "text/plain": [
       "<KerasTensor: shape=(None, 127, 127, 32) dtype=float32 (created by layer 'dropout')>"
      ]
     },
     "execution_count": 666,
     "metadata": {},
     "output_type": "execute_result"
    }
   ],
   "source": [
    "x"
   ]
  },
  {
   "cell_type": "code",
   "execution_count": 667,
   "id": "8fb186e7",
   "metadata": {},
   "outputs": [],
   "source": [
    "x = tf.keras.layers.Conv2D(filters = 64, kernel_size = (3,3), activation = 'relu')(x)"
   ]
  },
  {
   "cell_type": "code",
   "execution_count": null,
   "id": "4857e4fc",
   "metadata": {},
   "outputs": [],
   "source": []
  },
  {
   "cell_type": "code",
   "execution_count": 668,
   "id": "076c07b6",
   "metadata": {},
   "outputs": [],
   "source": [
    "x=tf.keras.layers.BatchNormalization()(x)"
   ]
  },
  {
   "cell_type": "code",
   "execution_count": 669,
   "id": "3dd76781",
   "metadata": {},
   "outputs": [],
   "source": [
    "x = tf.keras.layers.MaxPool2D(2,2)(x)"
   ]
  },
  {
   "cell_type": "code",
   "execution_count": 670,
   "id": "0e88dbf9",
   "metadata": {},
   "outputs": [
    {
     "data": {
      "text/plain": [
       "<KerasTensor: shape=(None, 62, 62, 64) dtype=float32 (created by layer 'max_pooling2d_1')>"
      ]
     },
     "execution_count": 670,
     "metadata": {},
     "output_type": "execute_result"
    }
   ],
   "source": [
    "x"
   ]
  },
  {
   "cell_type": "code",
   "execution_count": 671,
   "id": "a86f6e29",
   "metadata": {},
   "outputs": [],
   "source": [
    "x = tf.keras.layers.Dropout(0.2)(x)"
   ]
  },
  {
   "cell_type": "code",
   "execution_count": 672,
   "id": "39eb4cbb",
   "metadata": {},
   "outputs": [],
   "source": [
    "x = tf.keras.layers.Conv2D(filters = 64, kernel_size = (3,3), activation = 'relu')(x)"
   ]
  },
  {
   "cell_type": "code",
   "execution_count": 673,
   "id": "253ffe23",
   "metadata": {},
   "outputs": [],
   "source": [
    "x=tf.keras.layers.BatchNormalization()(x)"
   ]
  },
  {
   "cell_type": "code",
   "execution_count": null,
   "id": "45a8498c",
   "metadata": {},
   "outputs": [],
   "source": []
  },
  {
   "cell_type": "code",
   "execution_count": 674,
   "id": "fdde51f2",
   "metadata": {},
   "outputs": [],
   "source": [
    "x = tf.keras.layers.MaxPool2D()(x)"
   ]
  },
  {
   "cell_type": "code",
   "execution_count": 675,
   "id": "101d17a3",
   "metadata": {},
   "outputs": [],
   "source": [
    "x =tf.keras.layers.Dropout(0.2)(x)"
   ]
  },
  {
   "cell_type": "code",
   "execution_count": 676,
   "id": "2fe1ce63",
   "metadata": {},
   "outputs": [],
   "source": [
    "x = tf.keras.layers.Flatten()(x)"
   ]
  },
  {
   "cell_type": "code",
   "execution_count": 677,
   "id": "65aa0f69",
   "metadata": {},
   "outputs": [
    {
     "data": {
      "text/plain": [
       "<KerasTensor: shape=(None, 57600) dtype=float32 (created by layer 'flatten')>"
      ]
     },
     "execution_count": 677,
     "metadata": {},
     "output_type": "execute_result"
    }
   ],
   "source": [
    "x"
   ]
  },
  {
   "cell_type": "code",
   "execution_count": 678,
   "id": "94de477d",
   "metadata": {},
   "outputs": [],
   "source": [
    "#x = tf.keras.layers.GlobalAveragePooling2D()(x)"
   ]
  },
  {
   "cell_type": "code",
   "execution_count": 679,
   "id": "626f69fb",
   "metadata": {},
   "outputs": [],
   "source": [
    "x = tf.keras.layers.Dense(64, activation = 'relu')(x)\n",
    "x = tf.keras.layers.Dense(16, activation = 'relu')(x)"
   ]
  },
  {
   "cell_type": "code",
   "execution_count": 680,
   "id": "a3f0d694",
   "metadata": {},
   "outputs": [
    {
     "data": {
      "text/plain": [
       "<KerasTensor: shape=(None, 16) dtype=float32 (created by layer 'dense_1')>"
      ]
     },
     "execution_count": 680,
     "metadata": {},
     "output_type": "execute_result"
    }
   ],
   "source": [
    "x"
   ]
  },
  {
   "cell_type": "code",
   "execution_count": 681,
   "id": "4596b5d0",
   "metadata": {},
   "outputs": [],
   "source": [
    "output = tf.keras.layers.Dense(2, activation = 'linear')(x)"
   ]
  },
  {
   "cell_type": "code",
   "execution_count": 682,
   "id": "c42609b7",
   "metadata": {},
   "outputs": [
    {
     "data": {
      "text/plain": [
       "<KerasTensor: shape=(None, 2) dtype=float32 (created by layer 'dense_2')>"
      ]
     },
     "execution_count": 682,
     "metadata": {},
     "output_type": "execute_result"
    }
   ],
   "source": [
    "output"
   ]
  },
  {
   "cell_type": "code",
   "execution_count": 683,
   "id": "54faf27d",
   "metadata": {},
   "outputs": [],
   "source": [
    "model = tf.keras.Model(inputs = Inputs, outputs = output)"
   ]
  },
  {
   "cell_type": "code",
   "execution_count": 684,
   "id": "96912542",
   "metadata": {
    "scrolled": true
   },
   "outputs": [
    {
     "name": "stdout",
     "output_type": "stream",
     "text": [
      "Model: \"model\"\n",
      "_________________________________________________________________\n",
      " Layer (type)                Output Shape              Param #   \n",
      "=================================================================\n",
      " input_2 (InputLayer)        [(None, 256, 256, 3)]     0         \n",
      "                                                                 \n",
      " conv2d_1 (Conv2D)           (None, 254, 254, 32)      896       \n",
      "                                                                 \n",
      " batch_normalization (BatchN  (None, 254, 254, 32)     128       \n",
      " ormalization)                                                   \n",
      "                                                                 \n",
      " max_pooling2d (MaxPooling2D  (None, 127, 127, 32)     0         \n",
      " )                                                               \n",
      "                                                                 \n",
      " dropout (Dropout)           (None, 127, 127, 32)      0         \n",
      "                                                                 \n",
      " conv2d_2 (Conv2D)           (None, 125, 125, 64)      18496     \n",
      "                                                                 \n",
      " batch_normalization_1 (Batc  (None, 125, 125, 64)     256       \n",
      " hNormalization)                                                 \n",
      "                                                                 \n",
      " max_pooling2d_1 (MaxPooling  (None, 62, 62, 64)       0         \n",
      " 2D)                                                             \n",
      "                                                                 \n",
      " dropout_1 (Dropout)         (None, 62, 62, 64)        0         \n",
      "                                                                 \n",
      " conv2d_3 (Conv2D)           (None, 60, 60, 64)        36928     \n",
      "                                                                 \n",
      " batch_normalization_2 (Batc  (None, 60, 60, 64)       256       \n",
      " hNormalization)                                                 \n",
      "                                                                 \n",
      " max_pooling2d_2 (MaxPooling  (None, 30, 30, 64)       0         \n",
      " 2D)                                                             \n",
      "                                                                 \n",
      " dropout_2 (Dropout)         (None, 30, 30, 64)        0         \n",
      "                                                                 \n",
      " flatten (Flatten)           (None, 57600)             0         \n",
      "                                                                 \n",
      " dense (Dense)               (None, 64)                3686464   \n",
      "                                                                 \n",
      " dense_1 (Dense)             (None, 16)                1040      \n",
      "                                                                 \n",
      " dense_2 (Dense)             (None, 2)                 34        \n",
      "                                                                 \n",
      "=================================================================\n",
      "Total params: 3,744,498\n",
      "Trainable params: 3,744,178\n",
      "Non-trainable params: 320\n",
      "_________________________________________________________________\n"
     ]
    }
   ],
   "source": [
    "model.summary()"
   ]
  },
  {
   "cell_type": "code",
   "execution_count": 685,
   "id": "29b085b2",
   "metadata": {},
   "outputs": [],
   "source": [
    "from keras.optimizers import Adam"
   ]
  },
  {
   "cell_type": "code",
   "execution_count": 686,
   "id": "e9753753",
   "metadata": {},
   "outputs": [],
   "source": [
    "model.compile(optimizer=tf.keras.optimizers.Adam(learning_rate=1e-3),\n",
    "              loss=tf.keras.losses.MeanSquaredError(),\n",
    "             metrics = [tf.keras.metrics.MeanAbsoluteError()])"
   ]
  },
  {
   "cell_type": "code",
   "execution_count": 687,
   "id": "34be024a",
   "metadata": {
    "scrolled": true
   },
   "outputs": [
    {
     "name": "stdout",
     "output_type": "stream",
     "text": [
      "Epoch 1/2\n",
      "424/424 [==============================] - 1342s 3s/step - loss: 118.1233 - mean_absolute_error: 5.1810 - val_loss: 148.7066 - val_mean_absolute_error: 5.8403\n",
      "Epoch 2/2\n",
      " 69/424 [===>..........................] - ETA: 20:56 - loss: 103.8535 - mean_absolute_error: 4.3178"
     ]
    },
    {
     "name": "stderr",
     "output_type": "stream",
     "text": [
      "ERROR:root:Internal Python error in the inspect module.\n",
      "Below is the traceback from this internal error.\n",
      "\n"
     ]
    },
    {
     "name": "stdout",
     "output_type": "stream",
     "text": [
      "Traceback (most recent call last):\n",
      "  File \"C:\\Users\\DELL\\anaconda3\\lib\\site-packages\\IPython\\core\\interactiveshell.py\", line 3457, in run_code\n",
      "    exec(code_obj, self.user_global_ns, self.user_ns)\n",
      "  File \"C:\\Users\\DELL\\AppData\\Local\\Temp\\ipykernel_20504\\4226747450.py\", line 1, in <module>\n",
      "    history = model.fit(train_images, validation_data = val_images, epochs = 2)\n",
      "  File \"C:\\Users\\DELL\\anaconda3\\lib\\site-packages\\keras\\utils\\traceback_utils.py\", line 65, in error_handler\n",
      "    return fn(*args, **kwargs)\n",
      "  File \"C:\\Users\\DELL\\anaconda3\\lib\\site-packages\\keras\\engine\\training.py\", line 1564, in fit\n",
      "    tmp_logs = self.train_function(iterator)\n",
      "  File \"C:\\Users\\DELL\\anaconda3\\lib\\site-packages\\tensorflow\\python\\util\\traceback_utils.py\", line 150, in error_handler\n",
      "    return fn(*args, **kwargs)\n",
      "  File \"C:\\Users\\DELL\\anaconda3\\lib\\site-packages\\tensorflow\\python\\eager\\def_function.py\", line 915, in __call__\n",
      "    result = self._call(*args, **kwds)\n",
      "  File \"C:\\Users\\DELL\\anaconda3\\lib\\site-packages\\tensorflow\\python\\eager\\def_function.py\", line 947, in _call\n",
      "    return self._stateless_fn(*args, **kwds)  # pylint: disable=not-callable\n",
      "  File \"C:\\Users\\DELL\\anaconda3\\lib\\site-packages\\tensorflow\\python\\eager\\function.py\", line 2496, in __call__\n",
      "    return graph_function._call_flat(\n",
      "  File \"C:\\Users\\DELL\\anaconda3\\lib\\site-packages\\tensorflow\\python\\eager\\function.py\", line 1862, in _call_flat\n",
      "    return self._build_call_outputs(self._inference_function.call(\n",
      "  File \"C:\\Users\\DELL\\anaconda3\\lib\\site-packages\\tensorflow\\python\\eager\\function.py\", line 499, in call\n",
      "    outputs = execute.execute(\n",
      "  File \"C:\\Users\\DELL\\anaconda3\\lib\\site-packages\\tensorflow\\python\\eager\\execute.py\", line 54, in quick_execute\n",
      "    tensors = pywrap_tfe.TFE_Py_Execute(ctx._handle, device_name, op_name,\n",
      "KeyboardInterrupt\n",
      "\n",
      "During handling of the above exception, another exception occurred:\n",
      "\n",
      "Traceback (most recent call last):\n",
      "  File \"C:\\Users\\DELL\\anaconda3\\lib\\site-packages\\IPython\\core\\interactiveshell.py\", line 2077, in showtraceback\n",
      "    stb = value._render_traceback_()\n",
      "AttributeError: 'KeyboardInterrupt' object has no attribute '_render_traceback_'\n",
      "\n",
      "During handling of the above exception, another exception occurred:\n",
      "\n",
      "Traceback (most recent call last):\n",
      "  File \"C:\\Users\\DELL\\anaconda3\\lib\\site-packages\\IPython\\core\\ultratb.py\", line 1101, in get_records\n",
      "    return _fixed_getinnerframes(etb, number_of_lines_of_context, tb_offset)\n",
      "  File \"C:\\Users\\DELL\\anaconda3\\lib\\site-packages\\IPython\\core\\ultratb.py\", line 248, in wrapped\n",
      "    return f(*args, **kwargs)\n",
      "  File \"C:\\Users\\DELL\\anaconda3\\lib\\site-packages\\IPython\\core\\ultratb.py\", line 281, in _fixed_getinnerframes\n",
      "    records = fix_frame_records_filenames(inspect.getinnerframes(etb, context))\n",
      "  File \"C:\\Users\\DELL\\anaconda3\\lib\\inspect.py\", line 1543, in getinnerframes\n",
      "    frameinfo = (tb.tb_frame,) + getframeinfo(tb, context)\n",
      "  File \"C:\\Users\\DELL\\anaconda3\\lib\\inspect.py\", line 1501, in getframeinfo\n",
      "    filename = getsourcefile(frame) or getfile(frame)\n",
      "  File \"C:\\Users\\DELL\\anaconda3\\lib\\inspect.py\", line 709, in getsourcefile\n",
      "    if getattr(getmodule(object, filename), '__loader__', None) is not None:\n",
      "  File \"C:\\Users\\DELL\\anaconda3\\lib\\inspect.py\", line 746, in getmodule\n",
      "    if ismodule(module) and hasattr(module, '__file__'):\n",
      "KeyboardInterrupt\n"
     ]
    },
    {
     "ename": "TypeError",
     "evalue": "object of type 'NoneType' has no len()",
     "output_type": "error",
     "traceback": [
      "\u001b[1;31m---------------------------------------------------------------------------\u001b[0m",
      "\u001b[1;31mKeyboardInterrupt\u001b[0m                         Traceback (most recent call last)",
      "    \u001b[1;31m[... skipping hidden 1 frame]\u001b[0m\n",
      "\u001b[1;32m~\\AppData\\Local\\Temp\\ipykernel_20504\\4226747450.py\u001b[0m in \u001b[0;36m<module>\u001b[1;34m\u001b[0m\n\u001b[1;32m----> 1\u001b[1;33m \u001b[0mhistory\u001b[0m \u001b[1;33m=\u001b[0m \u001b[0mmodel\u001b[0m\u001b[1;33m.\u001b[0m\u001b[0mfit\u001b[0m\u001b[1;33m(\u001b[0m\u001b[0mtrain_images\u001b[0m\u001b[1;33m,\u001b[0m \u001b[0mvalidation_data\u001b[0m \u001b[1;33m=\u001b[0m \u001b[0mval_images\u001b[0m\u001b[1;33m,\u001b[0m \u001b[0mepochs\u001b[0m \u001b[1;33m=\u001b[0m \u001b[1;36m2\u001b[0m\u001b[1;33m)\u001b[0m\u001b[1;33m\u001b[0m\u001b[1;33m\u001b[0m\u001b[0m\n\u001b[0m\u001b[0;32m      2\u001b[0m \u001b[1;33m\u001b[0m\u001b[0m\n\u001b[0;32m      3\u001b[0m \u001b[1;33m\u001b[0m\u001b[0m\n",
      "\u001b[1;32m~\\anaconda3\\lib\\site-packages\\keras\\utils\\traceback_utils.py\u001b[0m in \u001b[0;36merror_handler\u001b[1;34m(*args, **kwargs)\u001b[0m\n\u001b[0;32m     64\u001b[0m         \u001b[1;32mtry\u001b[0m\u001b[1;33m:\u001b[0m\u001b[1;33m\u001b[0m\u001b[1;33m\u001b[0m\u001b[0m\n\u001b[1;32m---> 65\u001b[1;33m             \u001b[1;32mreturn\u001b[0m \u001b[0mfn\u001b[0m\u001b[1;33m(\u001b[0m\u001b[1;33m*\u001b[0m\u001b[0margs\u001b[0m\u001b[1;33m,\u001b[0m \u001b[1;33m**\u001b[0m\u001b[0mkwargs\u001b[0m\u001b[1;33m)\u001b[0m\u001b[1;33m\u001b[0m\u001b[1;33m\u001b[0m\u001b[0m\n\u001b[0m\u001b[0;32m     66\u001b[0m         \u001b[1;32mexcept\u001b[0m \u001b[0mException\u001b[0m \u001b[1;32mas\u001b[0m \u001b[0me\u001b[0m\u001b[1;33m:\u001b[0m\u001b[1;33m\u001b[0m\u001b[1;33m\u001b[0m\u001b[0m\n",
      "\u001b[1;32m~\\anaconda3\\lib\\site-packages\\keras\\engine\\training.py\u001b[0m in \u001b[0;36mfit\u001b[1;34m(self, x, y, batch_size, epochs, verbose, callbacks, validation_split, validation_data, shuffle, class_weight, sample_weight, initial_epoch, steps_per_epoch, validation_steps, validation_batch_size, validation_freq, max_queue_size, workers, use_multiprocessing)\u001b[0m\n\u001b[0;32m   1563\u001b[0m                             \u001b[0mcallbacks\u001b[0m\u001b[1;33m.\u001b[0m\u001b[0mon_train_batch_begin\u001b[0m\u001b[1;33m(\u001b[0m\u001b[0mstep\u001b[0m\u001b[1;33m)\u001b[0m\u001b[1;33m\u001b[0m\u001b[1;33m\u001b[0m\u001b[0m\n\u001b[1;32m-> 1564\u001b[1;33m                             \u001b[0mtmp_logs\u001b[0m \u001b[1;33m=\u001b[0m \u001b[0mself\u001b[0m\u001b[1;33m.\u001b[0m\u001b[0mtrain_function\u001b[0m\u001b[1;33m(\u001b[0m\u001b[0miterator\u001b[0m\u001b[1;33m)\u001b[0m\u001b[1;33m\u001b[0m\u001b[1;33m\u001b[0m\u001b[0m\n\u001b[0m\u001b[0;32m   1565\u001b[0m                             \u001b[1;32mif\u001b[0m \u001b[0mdata_handler\u001b[0m\u001b[1;33m.\u001b[0m\u001b[0mshould_sync\u001b[0m\u001b[1;33m:\u001b[0m\u001b[1;33m\u001b[0m\u001b[1;33m\u001b[0m\u001b[0m\n",
      "\u001b[1;32m~\\anaconda3\\lib\\site-packages\\tensorflow\\python\\util\\traceback_utils.py\u001b[0m in \u001b[0;36merror_handler\u001b[1;34m(*args, **kwargs)\u001b[0m\n\u001b[0;32m    149\u001b[0m     \u001b[1;32mtry\u001b[0m\u001b[1;33m:\u001b[0m\u001b[1;33m\u001b[0m\u001b[1;33m\u001b[0m\u001b[0m\n\u001b[1;32m--> 150\u001b[1;33m       \u001b[1;32mreturn\u001b[0m \u001b[0mfn\u001b[0m\u001b[1;33m(\u001b[0m\u001b[1;33m*\u001b[0m\u001b[0margs\u001b[0m\u001b[1;33m,\u001b[0m \u001b[1;33m**\u001b[0m\u001b[0mkwargs\u001b[0m\u001b[1;33m)\u001b[0m\u001b[1;33m\u001b[0m\u001b[1;33m\u001b[0m\u001b[0m\n\u001b[0m\u001b[0;32m    151\u001b[0m     \u001b[1;32mexcept\u001b[0m \u001b[0mException\u001b[0m \u001b[1;32mas\u001b[0m \u001b[0me\u001b[0m\u001b[1;33m:\u001b[0m\u001b[1;33m\u001b[0m\u001b[1;33m\u001b[0m\u001b[0m\n",
      "\u001b[1;32m~\\anaconda3\\lib\\site-packages\\tensorflow\\python\\eager\\def_function.py\u001b[0m in \u001b[0;36m__call__\u001b[1;34m(self, *args, **kwds)\u001b[0m\n\u001b[0;32m    914\u001b[0m       \u001b[1;32mwith\u001b[0m \u001b[0mOptionalXlaContext\u001b[0m\u001b[1;33m(\u001b[0m\u001b[0mself\u001b[0m\u001b[1;33m.\u001b[0m\u001b[0m_jit_compile\u001b[0m\u001b[1;33m)\u001b[0m\u001b[1;33m:\u001b[0m\u001b[1;33m\u001b[0m\u001b[1;33m\u001b[0m\u001b[0m\n\u001b[1;32m--> 915\u001b[1;33m         \u001b[0mresult\u001b[0m \u001b[1;33m=\u001b[0m \u001b[0mself\u001b[0m\u001b[1;33m.\u001b[0m\u001b[0m_call\u001b[0m\u001b[1;33m(\u001b[0m\u001b[1;33m*\u001b[0m\u001b[0margs\u001b[0m\u001b[1;33m,\u001b[0m \u001b[1;33m**\u001b[0m\u001b[0mkwds\u001b[0m\u001b[1;33m)\u001b[0m\u001b[1;33m\u001b[0m\u001b[1;33m\u001b[0m\u001b[0m\n\u001b[0m\u001b[0;32m    916\u001b[0m \u001b[1;33m\u001b[0m\u001b[0m\n",
      "\u001b[1;32m~\\anaconda3\\lib\\site-packages\\tensorflow\\python\\eager\\def_function.py\u001b[0m in \u001b[0;36m_call\u001b[1;34m(self, *args, **kwds)\u001b[0m\n\u001b[0;32m    946\u001b[0m       \u001b[1;31m# defunned version which is guaranteed to never create variables.\u001b[0m\u001b[1;33m\u001b[0m\u001b[1;33m\u001b[0m\u001b[0m\n\u001b[1;32m--> 947\u001b[1;33m       \u001b[1;32mreturn\u001b[0m \u001b[0mself\u001b[0m\u001b[1;33m.\u001b[0m\u001b[0m_stateless_fn\u001b[0m\u001b[1;33m(\u001b[0m\u001b[1;33m*\u001b[0m\u001b[0margs\u001b[0m\u001b[1;33m,\u001b[0m \u001b[1;33m**\u001b[0m\u001b[0mkwds\u001b[0m\u001b[1;33m)\u001b[0m  \u001b[1;31m# pylint: disable=not-callable\u001b[0m\u001b[1;33m\u001b[0m\u001b[1;33m\u001b[0m\u001b[0m\n\u001b[0m\u001b[0;32m    948\u001b[0m     \u001b[1;32melif\u001b[0m \u001b[0mself\u001b[0m\u001b[1;33m.\u001b[0m\u001b[0m_stateful_fn\u001b[0m \u001b[1;32mis\u001b[0m \u001b[1;32mnot\u001b[0m \u001b[1;32mNone\u001b[0m\u001b[1;33m:\u001b[0m\u001b[1;33m\u001b[0m\u001b[1;33m\u001b[0m\u001b[0m\n",
      "\u001b[1;32m~\\anaconda3\\lib\\site-packages\\tensorflow\\python\\eager\\function.py\u001b[0m in \u001b[0;36m__call__\u001b[1;34m(self, *args, **kwargs)\u001b[0m\n\u001b[0;32m   2495\u001b[0m        filtered_flat_args) = self._maybe_define_function(args, kwargs)\n\u001b[1;32m-> 2496\u001b[1;33m     return graph_function._call_flat(\n\u001b[0m\u001b[0;32m   2497\u001b[0m         filtered_flat_args, captured_inputs=graph_function.captured_inputs)  # pylint: disable=protected-access\n",
      "\u001b[1;32m~\\anaconda3\\lib\\site-packages\\tensorflow\\python\\eager\\function.py\u001b[0m in \u001b[0;36m_call_flat\u001b[1;34m(self, args, captured_inputs, cancellation_manager)\u001b[0m\n\u001b[0;32m   1861\u001b[0m       \u001b[1;31m# No tape is watching; skip to running the function.\u001b[0m\u001b[1;33m\u001b[0m\u001b[1;33m\u001b[0m\u001b[0m\n\u001b[1;32m-> 1862\u001b[1;33m       return self._build_call_outputs(self._inference_function.call(\n\u001b[0m\u001b[0;32m   1863\u001b[0m           ctx, args, cancellation_manager=cancellation_manager))\n",
      "\u001b[1;32m~\\anaconda3\\lib\\site-packages\\tensorflow\\python\\eager\\function.py\u001b[0m in \u001b[0;36mcall\u001b[1;34m(self, ctx, args, cancellation_manager)\u001b[0m\n\u001b[0;32m    498\u001b[0m         \u001b[1;32mif\u001b[0m \u001b[0mcancellation_manager\u001b[0m \u001b[1;32mis\u001b[0m \u001b[1;32mNone\u001b[0m\u001b[1;33m:\u001b[0m\u001b[1;33m\u001b[0m\u001b[1;33m\u001b[0m\u001b[0m\n\u001b[1;32m--> 499\u001b[1;33m           outputs = execute.execute(\n\u001b[0m\u001b[0;32m    500\u001b[0m               \u001b[0mstr\u001b[0m\u001b[1;33m(\u001b[0m\u001b[0mself\u001b[0m\u001b[1;33m.\u001b[0m\u001b[0msignature\u001b[0m\u001b[1;33m.\u001b[0m\u001b[0mname\u001b[0m\u001b[1;33m)\u001b[0m\u001b[1;33m,\u001b[0m\u001b[1;33m\u001b[0m\u001b[1;33m\u001b[0m\u001b[0m\n",
      "\u001b[1;32m~\\anaconda3\\lib\\site-packages\\tensorflow\\python\\eager\\execute.py\u001b[0m in \u001b[0;36mquick_execute\u001b[1;34m(op_name, num_outputs, inputs, attrs, ctx, name)\u001b[0m\n\u001b[0;32m     53\u001b[0m     \u001b[0mctx\u001b[0m\u001b[1;33m.\u001b[0m\u001b[0mensure_initialized\u001b[0m\u001b[1;33m(\u001b[0m\u001b[1;33m)\u001b[0m\u001b[1;33m\u001b[0m\u001b[1;33m\u001b[0m\u001b[0m\n\u001b[1;32m---> 54\u001b[1;33m     tensors = pywrap_tfe.TFE_Py_Execute(ctx._handle, device_name, op_name,\n\u001b[0m\u001b[0;32m     55\u001b[0m                                         inputs, attrs, num_outputs)\n",
      "\u001b[1;31mKeyboardInterrupt\u001b[0m: ",
      "\nDuring handling of the above exception, another exception occurred:\n",
      "\u001b[1;31mAttributeError\u001b[0m                            Traceback (most recent call last)",
      "\u001b[1;32m~\\anaconda3\\lib\\site-packages\\IPython\\core\\interactiveshell.py\u001b[0m in \u001b[0;36mshowtraceback\u001b[1;34m(self, exc_tuple, filename, tb_offset, exception_only, running_compiled_code)\u001b[0m\n\u001b[0;32m   2076\u001b[0m                         \u001b[1;31m# in the engines. This should return a list of strings.\u001b[0m\u001b[1;33m\u001b[0m\u001b[1;33m\u001b[0m\u001b[0m\n\u001b[1;32m-> 2077\u001b[1;33m                         \u001b[0mstb\u001b[0m \u001b[1;33m=\u001b[0m \u001b[0mvalue\u001b[0m\u001b[1;33m.\u001b[0m\u001b[0m_render_traceback_\u001b[0m\u001b[1;33m(\u001b[0m\u001b[1;33m)\u001b[0m\u001b[1;33m\u001b[0m\u001b[1;33m\u001b[0m\u001b[0m\n\u001b[0m\u001b[0;32m   2078\u001b[0m                     \u001b[1;32mexcept\u001b[0m \u001b[0mException\u001b[0m\u001b[1;33m:\u001b[0m\u001b[1;33m\u001b[0m\u001b[1;33m\u001b[0m\u001b[0m\n",
      "\u001b[1;31mAttributeError\u001b[0m: 'KeyboardInterrupt' object has no attribute '_render_traceback_'",
      "\nDuring handling of the above exception, another exception occurred:\n",
      "\u001b[1;31mTypeError\u001b[0m                                 Traceback (most recent call last)",
      "    \u001b[1;31m[... skipping hidden 1 frame]\u001b[0m\n",
      "\u001b[1;32m~\\anaconda3\\lib\\site-packages\\IPython\\core\\interactiveshell.py\u001b[0m in \u001b[0;36mshowtraceback\u001b[1;34m(self, exc_tuple, filename, tb_offset, exception_only, running_compiled_code)\u001b[0m\n\u001b[0;32m   2077\u001b[0m                         \u001b[0mstb\u001b[0m \u001b[1;33m=\u001b[0m \u001b[0mvalue\u001b[0m\u001b[1;33m.\u001b[0m\u001b[0m_render_traceback_\u001b[0m\u001b[1;33m(\u001b[0m\u001b[1;33m)\u001b[0m\u001b[1;33m\u001b[0m\u001b[1;33m\u001b[0m\u001b[0m\n\u001b[0;32m   2078\u001b[0m                     \u001b[1;32mexcept\u001b[0m \u001b[0mException\u001b[0m\u001b[1;33m:\u001b[0m\u001b[1;33m\u001b[0m\u001b[1;33m\u001b[0m\u001b[0m\n\u001b[1;32m-> 2079\u001b[1;33m                         stb = self.InteractiveTB.structured_traceback(etype,\n\u001b[0m\u001b[0;32m   2080\u001b[0m                                             value, tb, tb_offset=tb_offset)\n\u001b[0;32m   2081\u001b[0m \u001b[1;33m\u001b[0m\u001b[0m\n",
      "\u001b[1;32m~\\anaconda3\\lib\\site-packages\\IPython\\core\\ultratb.py\u001b[0m in \u001b[0;36mstructured_traceback\u001b[1;34m(self, etype, value, tb, tb_offset, number_of_lines_of_context)\u001b[0m\n\u001b[0;32m   1365\u001b[0m         \u001b[1;32melse\u001b[0m\u001b[1;33m:\u001b[0m\u001b[1;33m\u001b[0m\u001b[1;33m\u001b[0m\u001b[0m\n\u001b[0;32m   1366\u001b[0m             \u001b[0mself\u001b[0m\u001b[1;33m.\u001b[0m\u001b[0mtb\u001b[0m \u001b[1;33m=\u001b[0m \u001b[0mtb\u001b[0m\u001b[1;33m\u001b[0m\u001b[1;33m\u001b[0m\u001b[0m\n\u001b[1;32m-> 1367\u001b[1;33m         return FormattedTB.structured_traceback(\n\u001b[0m\u001b[0;32m   1368\u001b[0m             self, etype, value, tb, tb_offset, number_of_lines_of_context)\n\u001b[0;32m   1369\u001b[0m \u001b[1;33m\u001b[0m\u001b[0m\n",
      "\u001b[1;32m~\\anaconda3\\lib\\site-packages\\IPython\\core\\ultratb.py\u001b[0m in \u001b[0;36mstructured_traceback\u001b[1;34m(self, etype, value, tb, tb_offset, number_of_lines_of_context)\u001b[0m\n\u001b[0;32m   1265\u001b[0m         \u001b[1;32mif\u001b[0m \u001b[0mmode\u001b[0m \u001b[1;32min\u001b[0m \u001b[0mself\u001b[0m\u001b[1;33m.\u001b[0m\u001b[0mverbose_modes\u001b[0m\u001b[1;33m:\u001b[0m\u001b[1;33m\u001b[0m\u001b[1;33m\u001b[0m\u001b[0m\n\u001b[0;32m   1266\u001b[0m             \u001b[1;31m# Verbose modes need a full traceback\u001b[0m\u001b[1;33m\u001b[0m\u001b[1;33m\u001b[0m\u001b[0m\n\u001b[1;32m-> 1267\u001b[1;33m             return VerboseTB.structured_traceback(\n\u001b[0m\u001b[0;32m   1268\u001b[0m                 \u001b[0mself\u001b[0m\u001b[1;33m,\u001b[0m \u001b[0metype\u001b[0m\u001b[1;33m,\u001b[0m \u001b[0mvalue\u001b[0m\u001b[1;33m,\u001b[0m \u001b[0mtb\u001b[0m\u001b[1;33m,\u001b[0m \u001b[0mtb_offset\u001b[0m\u001b[1;33m,\u001b[0m \u001b[0mnumber_of_lines_of_context\u001b[0m\u001b[1;33m\u001b[0m\u001b[1;33m\u001b[0m\u001b[0m\n\u001b[0;32m   1269\u001b[0m             )\n",
      "\u001b[1;32m~\\anaconda3\\lib\\site-packages\\IPython\\core\\ultratb.py\u001b[0m in \u001b[0;36mstructured_traceback\u001b[1;34m(self, etype, evalue, etb, tb_offset, number_of_lines_of_context)\u001b[0m\n\u001b[0;32m   1122\u001b[0m         \u001b[1;34m\"\"\"Return a nice text document describing the traceback.\"\"\"\u001b[0m\u001b[1;33m\u001b[0m\u001b[1;33m\u001b[0m\u001b[0m\n\u001b[0;32m   1123\u001b[0m \u001b[1;33m\u001b[0m\u001b[0m\n\u001b[1;32m-> 1124\u001b[1;33m         formatted_exception = self.format_exception_as_a_whole(etype, evalue, etb, number_of_lines_of_context,\n\u001b[0m\u001b[0;32m   1125\u001b[0m                                                                tb_offset)\n\u001b[0;32m   1126\u001b[0m \u001b[1;33m\u001b[0m\u001b[0m\n",
      "\u001b[1;32m~\\anaconda3\\lib\\site-packages\\IPython\\core\\ultratb.py\u001b[0m in \u001b[0;36mformat_exception_as_a_whole\u001b[1;34m(self, etype, evalue, etb, number_of_lines_of_context, tb_offset)\u001b[0m\n\u001b[0;32m   1080\u001b[0m \u001b[1;33m\u001b[0m\u001b[0m\n\u001b[0;32m   1081\u001b[0m \u001b[1;33m\u001b[0m\u001b[0m\n\u001b[1;32m-> 1082\u001b[1;33m         \u001b[0mlast_unique\u001b[0m\u001b[1;33m,\u001b[0m \u001b[0mrecursion_repeat\u001b[0m \u001b[1;33m=\u001b[0m \u001b[0mfind_recursion\u001b[0m\u001b[1;33m(\u001b[0m\u001b[0morig_etype\u001b[0m\u001b[1;33m,\u001b[0m \u001b[0mevalue\u001b[0m\u001b[1;33m,\u001b[0m \u001b[0mrecords\u001b[0m\u001b[1;33m)\u001b[0m\u001b[1;33m\u001b[0m\u001b[1;33m\u001b[0m\u001b[0m\n\u001b[0m\u001b[0;32m   1083\u001b[0m \u001b[1;33m\u001b[0m\u001b[0m\n\u001b[0;32m   1084\u001b[0m         \u001b[0mframes\u001b[0m \u001b[1;33m=\u001b[0m \u001b[0mself\u001b[0m\u001b[1;33m.\u001b[0m\u001b[0mformat_records\u001b[0m\u001b[1;33m(\u001b[0m\u001b[0mrecords\u001b[0m\u001b[1;33m,\u001b[0m \u001b[0mlast_unique\u001b[0m\u001b[1;33m,\u001b[0m \u001b[0mrecursion_repeat\u001b[0m\u001b[1;33m)\u001b[0m\u001b[1;33m\u001b[0m\u001b[1;33m\u001b[0m\u001b[0m\n",
      "\u001b[1;32m~\\anaconda3\\lib\\site-packages\\IPython\\core\\ultratb.py\u001b[0m in \u001b[0;36mfind_recursion\u001b[1;34m(etype, value, records)\u001b[0m\n\u001b[0;32m    380\u001b[0m     \u001b[1;31m# first frame (from in to out) that looks different.\u001b[0m\u001b[1;33m\u001b[0m\u001b[1;33m\u001b[0m\u001b[0m\n\u001b[0;32m    381\u001b[0m     \u001b[1;32mif\u001b[0m \u001b[1;32mnot\u001b[0m \u001b[0mis_recursion_error\u001b[0m\u001b[1;33m(\u001b[0m\u001b[0metype\u001b[0m\u001b[1;33m,\u001b[0m \u001b[0mvalue\u001b[0m\u001b[1;33m,\u001b[0m \u001b[0mrecords\u001b[0m\u001b[1;33m)\u001b[0m\u001b[1;33m:\u001b[0m\u001b[1;33m\u001b[0m\u001b[1;33m\u001b[0m\u001b[0m\n\u001b[1;32m--> 382\u001b[1;33m         \u001b[1;32mreturn\u001b[0m \u001b[0mlen\u001b[0m\u001b[1;33m(\u001b[0m\u001b[0mrecords\u001b[0m\u001b[1;33m)\u001b[0m\u001b[1;33m,\u001b[0m \u001b[1;36m0\u001b[0m\u001b[1;33m\u001b[0m\u001b[1;33m\u001b[0m\u001b[0m\n\u001b[0m\u001b[0;32m    383\u001b[0m \u001b[1;33m\u001b[0m\u001b[0m\n\u001b[0;32m    384\u001b[0m     \u001b[1;31m# Select filename, lineno, func_name to track frames with\u001b[0m\u001b[1;33m\u001b[0m\u001b[1;33m\u001b[0m\u001b[0m\n",
      "\u001b[1;31mTypeError\u001b[0m: object of type 'NoneType' has no len()"
     ]
    }
   ],
   "source": [
    "history = model.fit(train_images, validation_data = val_images, epochs = 2)\n",
    "                   \n",
    "\n",
    "# history = model.fit(train_images, validation_data = val_images, epochs = 3,\n",
    "#                     callbacks = [\n",
    "#                         tf.keras.callbacks.EarlyStopping(\n",
    "#                         monitor = 'val_loss',\n",
    "#                         patience = 3,\n",
    "#                         restore_best_weights = True)\n",
    "#                     ]\n",
    "#                    )"
   ]
  },
  {
   "cell_type": "code",
   "execution_count": 61,
   "id": "829c768b",
   "metadata": {},
   "outputs": [],
   "source": [
    "# using a pretrained model\n",
    "\n",
    "initial_model = tf.keras.applications.VGG16(weights=\"imagenet\", include_top=False, input_shape=(256,256,3))"
   ]
  },
  {
   "cell_type": "code",
   "execution_count": 62,
   "id": "b42779f0",
   "metadata": {},
   "outputs": [],
   "source": [
    "for layer in initial_model.layers[:]:\n",
    "    layer.trainable = False"
   ]
  },
  {
   "cell_type": "code",
   "execution_count": 63,
   "id": "34865f0d",
   "metadata": {
    "scrolled": true
   },
   "outputs": [],
   "source": [
    "last = initial_model.output\n",
    "x = tf.keras.layers.GlobalAveragePooling2D()(last)\n",
    "x = tf.keras.layers.Dense(128)(x)\n",
    "#x = tf.keras.layers.Dense(64,activation='relu')(x) \n",
    "#x = tf.keras.layers.LeakyReLU(alpha=.1)(x)\n",
    "preds =tf.keras.layers.Dense(2, activation='linear')(x)\n",
    "model = tf.keras.Model(initial_model.input, preds)"
   ]
  },
  {
   "cell_type": "code",
   "execution_count": null,
   "id": "6e28bf63",
   "metadata": {},
   "outputs": [],
   "source": [
    "history = model.fit(train_images, validation_data = val_images, epochs = 2)\n",
    "                   \n",
    "\n",
    "# history = model.fit(train_images, validation_data = val_images, epochs = 3,\n",
    "#                     callbacks = [\n",
    "#                         tf.keras.callbacks.EarlyStopping(\n",
    "#                         monitor = 'val_loss',\n",
    "#                         patience = 3,\n",
    "#                         restore_best_weights = True)\n",
    "#                     ]\n",
    "#                    )"
   ]
  },
  {
   "cell_type": "code",
   "execution_count": 334,
   "id": "c8fd1579",
   "metadata": {},
   "outputs": [
    {
     "name": "stdout",
     "output_type": "stream",
     "text": [
      "Model: \"model_1\"\n",
      "_________________________________________________________________\n",
      " Layer (type)                Output Shape              Param #   \n",
      "=================================================================\n",
      " input_2 (InputLayer)        [(None, 256, 256, 3)]     0         \n",
      "                                                                 \n",
      " block1_conv1 (Conv2D)       (None, 256, 256, 64)      1792      \n",
      "                                                                 \n",
      " block1_conv2 (Conv2D)       (None, 256, 256, 64)      36928     \n",
      "                                                                 \n",
      " block1_pool (MaxPooling2D)  (None, 128, 128, 64)      0         \n",
      "                                                                 \n",
      " block2_conv1 (Conv2D)       (None, 128, 128, 128)     73856     \n",
      "                                                                 \n",
      " block2_conv2 (Conv2D)       (None, 128, 128, 128)     147584    \n",
      "                                                                 \n",
      " block2_pool (MaxPooling2D)  (None, 64, 64, 128)       0         \n",
      "                                                                 \n",
      " block3_conv1 (Conv2D)       (None, 64, 64, 256)       295168    \n",
      "                                                                 \n",
      " block3_conv2 (Conv2D)       (None, 64, 64, 256)       590080    \n",
      "                                                                 \n",
      " block3_conv3 (Conv2D)       (None, 64, 64, 256)       590080    \n",
      "                                                                 \n",
      " block3_pool (MaxPooling2D)  (None, 32, 32, 256)       0         \n",
      "                                                                 \n",
      " block4_conv1 (Conv2D)       (None, 32, 32, 512)       1180160   \n",
      "                                                                 \n",
      " block4_conv2 (Conv2D)       (None, 32, 32, 512)       2359808   \n",
      "                                                                 \n",
      " block4_conv3 (Conv2D)       (None, 32, 32, 512)       2359808   \n",
      "                                                                 \n",
      " block4_pool (MaxPooling2D)  (None, 16, 16, 512)       0         \n",
      "                                                                 \n",
      " block5_conv1 (Conv2D)       (None, 16, 16, 512)       2359808   \n",
      "                                                                 \n",
      " block5_conv2 (Conv2D)       (None, 16, 16, 512)       2359808   \n",
      "                                                                 \n",
      " block5_conv3 (Conv2D)       (None, 16, 16, 512)       2359808   \n",
      "                                                                 \n",
      " block5_pool (MaxPooling2D)  (None, 8, 8, 512)         0         \n",
      "                                                                 \n",
      " global_average_pooling2d_1   (None, 512)              0         \n",
      " (GlobalAveragePooling2D)                                        \n",
      "                                                                 \n",
      " dense_2 (Dense)             (None, 64)                32832     \n",
      "                                                                 \n",
      " dense_3 (Dense)             (None, 2)                 130       \n",
      "                                                                 \n",
      "=================================================================\n",
      "Total params: 14,747,650\n",
      "Trainable params: 32,962\n",
      "Non-trainable params: 14,714,688\n",
      "_________________________________________________________________\n"
     ]
    }
   ],
   "source": [
    "model.summary()"
   ]
  },
  {
   "cell_type": "code",
   "execution_count": null,
   "id": "91837124",
   "metadata": {},
   "outputs": [],
   "source": [
    "# optim = keras.optimizers.SGD(lr=1e-5, momentum=0.2)\n",
    "# model.compile(loss='mean_squared_error', optimizer=optim)\n",
    "# model.fit(trainX, trainY, epochs=8, verbose=2)"
   ]
  },
  {
   "cell_type": "code",
   "execution_count": 458,
   "id": "55c3f909",
   "metadata": {
    "scrolled": true
   },
   "outputs": [
    {
     "data": {
      "text/plain": [
       "Filepath     object\n",
       "abw         float64\n",
       "pbw         float64\n",
       "dtype: object"
      ]
     },
     "execution_count": 458,
     "metadata": {},
     "output_type": "execute_result"
    }
   ],
   "source": [
    "train_df.dtypes"
   ]
  },
  {
   "cell_type": "code",
   "execution_count": 67,
   "id": "cfafd08a",
   "metadata": {},
   "outputs": [],
   "source": [
    "model.save(\"model256.h5\")"
   ]
  },
  {
   "cell_type": "code",
   "execution_count": 177,
   "id": "a3a83e89",
   "metadata": {},
   "outputs": [
    {
     "name": "stdout",
     "output_type": "stream",
     "text": [
      "41/41 [==============================] - 18s 423ms/step\n"
     ]
    }
   ],
   "source": [
    "predicted_ages = np.squeeze(model.predict(test_images))\n",
    "true_ages = test_images.labels"
   ]
  },
  {
   "cell_type": "code",
   "execution_count": 65,
   "id": "05487a51",
   "metadata": {},
   "outputs": [],
   "source": [
    "rmse = np.sqrt(model.evaluate(test_images, verbose=0))\n",
    "mae= np.abs(model.evaluate(test_images, verbose=0))"
   ]
  },
  {
   "cell_type": "code",
   "execution_count": 66,
   "id": "831dc320",
   "metadata": {},
   "outputs": [
    {
     "data": {
      "text/plain": [
       "array([0.52132416, 0.50089252])"
      ]
     },
     "execution_count": 66,
     "metadata": {},
     "output_type": "execute_result"
    }
   ],
   "source": [
    "mae"
   ]
  },
  {
   "cell_type": "code",
   "execution_count": 67,
   "id": "ab4addba",
   "metadata": {},
   "outputs": [
    {
     "data": {
      "text/plain": [
       "array([0.72202781, 0.70773761])"
      ]
     },
     "execution_count": 67,
     "metadata": {},
     "output_type": "execute_result"
    }
   ],
   "source": [
    "rmse"
   ]
  },
  {
   "cell_type": "code",
   "execution_count": 178,
   "id": "ad77102f",
   "metadata": {},
   "outputs": [
    {
     "name": "stdout",
     "output_type": "stream",
     "text": [
      "Test R^2 Score: 0.07018\n"
     ]
    }
   ],
   "source": [
    "r2 = r2_score(true_ages, predicted_ages)\n",
    "print(\"Test R^2 Score: {:.5f}\".format(r2))"
   ]
  },
  {
   "cell_type": "code",
   "execution_count": 69,
   "id": "fc0dcb6c",
   "metadata": {},
   "outputs": [
    {
     "name": "stdout",
     "output_type": "stream",
     "text": [
      "Null/Baseline Model Test RMSE: 1.99584\n"
     ]
    }
   ],
   "source": [
    "null_rmse = np.sqrt(np.sum((true_ages - np.mean(true_ages))**2) / len(true_ages))\n",
    "print(\"Null/Baseline Model Test RMSE: {:.5f}\".format(null_rmse))"
   ]
  },
  {
   "cell_type": "code",
   "execution_count": 70,
   "id": "2bc11430",
   "metadata": {},
   "outputs": [
    {
     "data": {
      "image/png": "[encoded data removed]",
      "text/plain": [
       "<Figure size 640x480 with 1 Axes>"
      ]
     },
     "metadata": {},
     "output_type": "display_data"
    }
   ],
   "source": [
    "# plot mae\n",
    "plt.plot(history.history['loss'])\n",
    "plt.plot(history.history['val_loss'])\n",
    "plt.legend(['mae', 'val_mae'])\n",
    "# plt.ylim(1, 4)\n",
    "# plt.xlim(0, 50)\n",
    "\n",
    "plt.xticks(np.arange(0,50, 5))\n",
    "\n",
    "plt.xlabel('epochs')\n",
    "plt.ylabel('mean absolute error')\n",
    "plt.title('Mae in every epoch') \n",
    "plt.show()\n",
    "\n"
   ]
  },
  {
   "cell_type": "code",
   "execution_count": 71,
   "id": "2edd79c8",
   "metadata": {},
   "outputs": [
    {
     "data": {
      "image/png": "[encoded data removed]",
      "text/plain": [
       "<Figure size 640x480 with 1 Axes>"
      ]
     },
     "metadata": {},
     "output_type": "display_data"
    }
   ],
   "source": [
    "# plot mae\n",
    "plt.plot(history.history['mean_squared_error'])\n",
    "plt.plot(history.history['val_mean_squared_error'])\n",
    "plt.legend(['mse', 'val_mse'])\n",
    "# plt.ylim(1, 4)\n",
    "# plt.xlim(0, 50)\n",
    "\n",
    "#plt.xticks(np.arange(0,50, 5))\n",
    "\n",
    "plt.xlabel('epochs')\n",
    "plt.ylabel('mean squared error')\n",
    "plt.title('Mse in every epoch')\n",
    "plt.show()"
   ]
  }
 ],
 "metadata": {
  "kernelspec": {
   "display_name": "Python 3 (ipykernel)",
   "language": "python",
   "name": "python3"
  },
  "language_info": {
   "codemirror_mode": {
    "name": "ipython",
    "version": 3
   },
   "file_extension": ".py",
   "mimetype": "text/x-python",
   "name": "python",
   "nbconvert_exporter": "python",
   "pygments_lexer": "ipython3",
   "version": "3.9.13"
  }
 },
 "nbformat": 4,
 "nbformat_minor": 5
}
